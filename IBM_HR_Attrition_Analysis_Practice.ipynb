{
 "cells": [
  {
   "cell_type": "markdown",
   "metadata": {},
   "source": [
    "# About the Dataset"
   ]
  },
  {
   "cell_type": "markdown",
   "metadata": {},
   "source": [
    "This data set is created by __IBM Data Scientists.__\n",
    "\n",
    "Our Aim is to __Analyse the factors towards Attrition.__\n",
    "\n",
    "The dataset includes features like Age, Employee Role, Daily Rate, Job Satisfaction, Years At Company, Years In Current Role etc. "
   ]
  },
  {
   "cell_type": "markdown",
   "metadata": {},
   "source": [
    "## Importing all the required packages"
   ]
  },
  {
   "cell_type": "code",
   "execution_count": 1,
   "metadata": {},
   "outputs": [],
   "source": [
    "import pandas as pd,numpy as np\n",
    "\n",
    "# Plot related packages\n",
    "import matplotlib.pyplot as plt,seaborn as sns; sns.set()\n",
    "\n",
    "# Clustering packages (for Predicting a label for the unsupervised data)\n",
    "from sklearn.cluster import KMeans\n",
    "from sklearn.cluster import AgglomerativeClustering\n",
    "\n",
    "# Model Building related packages for Classification (Supervised)\n",
    "from sklearn.ensemble import  RandomForestClassifier\n",
    "from sklearn.linear_model import LogisticRegression\n",
    "from sklearn.tree import DecisionTreeClassifier\n",
    "from sklearn.neighbors import KNeighborsClassifier\n",
    "from sklearn.svm import SVC\n",
    "from sklearn.naive_bayes import GaussianNB\n",
    "from sklearn.model_selection import train_test_split\n",
    "\n",
    "from sklearn import preprocessing #For scaling\n",
    "\n",
    "from sklearn.preprocessing import LabelEncoder # Converting Categorical(text) to Categorical(numerical)\n",
    "\n",
    "# PCA package\n",
    "from sklearn.decomposition import PCA\n",
    "\n",
    "# Metrics\n",
    "\n",
    "from sklearn import metrics\n",
    "\n",
    "# import package to avoid warnings \n",
    "import warnings\n",
    "warnings.filterwarnings(\"ignore\")"
   ]
  },
  {
   "cell_type": "markdown",
   "metadata": {},
   "source": [
    "### Loading the data"
   ]
  },
  {
   "cell_type": "code",
   "execution_count": 2,
   "metadata": {},
   "outputs": [
    {
     "data": {
      "text/html": [
       "<div>\n",
       "<style scoped>\n",
       "    .dataframe tbody tr th:only-of-type {\n",
       "        vertical-align: middle;\n",
       "    }\n",
       "\n",
       "    .dataframe tbody tr th {\n",
       "        vertical-align: top;\n",
       "    }\n",
       "\n",
       "    .dataframe thead th {\n",
       "        text-align: right;\n",
       "    }\n",
       "</style>\n",
       "<table border=\"1\" class=\"dataframe\">\n",
       "  <thead>\n",
       "    <tr style=\"text-align: right;\">\n",
       "      <th></th>\n",
       "      <th>Age</th>\n",
       "      <th>Attrition</th>\n",
       "      <th>BusinessTravel</th>\n",
       "      <th>DailyRate</th>\n",
       "      <th>Department</th>\n",
       "      <th>DistanceFromHome</th>\n",
       "      <th>Education</th>\n",
       "      <th>EducationField</th>\n",
       "      <th>EmployeeCount</th>\n",
       "      <th>EmployeeNumber</th>\n",
       "      <th>...</th>\n",
       "      <th>RelationshipSatisfaction</th>\n",
       "      <th>StandardHours</th>\n",
       "      <th>StockOptionLevel</th>\n",
       "      <th>TotalWorkingYears</th>\n",
       "      <th>TrainingTimesLastYear</th>\n",
       "      <th>WorkLifeBalance</th>\n",
       "      <th>YearsAtCompany</th>\n",
       "      <th>YearsInCurrentRole</th>\n",
       "      <th>YearsSinceLastPromotion</th>\n",
       "      <th>YearsWithCurrManager</th>\n",
       "    </tr>\n",
       "  </thead>\n",
       "  <tbody>\n",
       "    <tr>\n",
       "      <th>0</th>\n",
       "      <td>41</td>\n",
       "      <td>Yes</td>\n",
       "      <td>Travel_Rarely</td>\n",
       "      <td>1102</td>\n",
       "      <td>Sales</td>\n",
       "      <td>1</td>\n",
       "      <td>2</td>\n",
       "      <td>Life Sciences</td>\n",
       "      <td>1</td>\n",
       "      <td>1</td>\n",
       "      <td>...</td>\n",
       "      <td>1</td>\n",
       "      <td>80</td>\n",
       "      <td>0</td>\n",
       "      <td>8</td>\n",
       "      <td>0</td>\n",
       "      <td>1</td>\n",
       "      <td>6</td>\n",
       "      <td>4</td>\n",
       "      <td>0</td>\n",
       "      <td>5</td>\n",
       "    </tr>\n",
       "    <tr>\n",
       "      <th>1</th>\n",
       "      <td>49</td>\n",
       "      <td>No</td>\n",
       "      <td>Travel_Frequently</td>\n",
       "      <td>279</td>\n",
       "      <td>Research &amp; Development</td>\n",
       "      <td>8</td>\n",
       "      <td>1</td>\n",
       "      <td>Life Sciences</td>\n",
       "      <td>1</td>\n",
       "      <td>2</td>\n",
       "      <td>...</td>\n",
       "      <td>4</td>\n",
       "      <td>80</td>\n",
       "      <td>1</td>\n",
       "      <td>10</td>\n",
       "      <td>3</td>\n",
       "      <td>3</td>\n",
       "      <td>10</td>\n",
       "      <td>7</td>\n",
       "      <td>1</td>\n",
       "      <td>7</td>\n",
       "    </tr>\n",
       "    <tr>\n",
       "      <th>2</th>\n",
       "      <td>37</td>\n",
       "      <td>Yes</td>\n",
       "      <td>Travel_Rarely</td>\n",
       "      <td>1373</td>\n",
       "      <td>Research &amp; Development</td>\n",
       "      <td>2</td>\n",
       "      <td>2</td>\n",
       "      <td>Other</td>\n",
       "      <td>1</td>\n",
       "      <td>4</td>\n",
       "      <td>...</td>\n",
       "      <td>2</td>\n",
       "      <td>80</td>\n",
       "      <td>0</td>\n",
       "      <td>7</td>\n",
       "      <td>3</td>\n",
       "      <td>3</td>\n",
       "      <td>0</td>\n",
       "      <td>0</td>\n",
       "      <td>0</td>\n",
       "      <td>0</td>\n",
       "    </tr>\n",
       "    <tr>\n",
       "      <th>3</th>\n",
       "      <td>33</td>\n",
       "      <td>No</td>\n",
       "      <td>Travel_Frequently</td>\n",
       "      <td>1392</td>\n",
       "      <td>Research &amp; Development</td>\n",
       "      <td>3</td>\n",
       "      <td>4</td>\n",
       "      <td>Life Sciences</td>\n",
       "      <td>1</td>\n",
       "      <td>5</td>\n",
       "      <td>...</td>\n",
       "      <td>3</td>\n",
       "      <td>80</td>\n",
       "      <td>0</td>\n",
       "      <td>8</td>\n",
       "      <td>3</td>\n",
       "      <td>3</td>\n",
       "      <td>8</td>\n",
       "      <td>7</td>\n",
       "      <td>3</td>\n",
       "      <td>0</td>\n",
       "    </tr>\n",
       "    <tr>\n",
       "      <th>4</th>\n",
       "      <td>27</td>\n",
       "      <td>No</td>\n",
       "      <td>Travel_Rarely</td>\n",
       "      <td>591</td>\n",
       "      <td>Research &amp; Development</td>\n",
       "      <td>2</td>\n",
       "      <td>1</td>\n",
       "      <td>Medical</td>\n",
       "      <td>1</td>\n",
       "      <td>7</td>\n",
       "      <td>...</td>\n",
       "      <td>4</td>\n",
       "      <td>80</td>\n",
       "      <td>1</td>\n",
       "      <td>6</td>\n",
       "      <td>3</td>\n",
       "      <td>3</td>\n",
       "      <td>2</td>\n",
       "      <td>2</td>\n",
       "      <td>2</td>\n",
       "      <td>2</td>\n",
       "    </tr>\n",
       "  </tbody>\n",
       "</table>\n",
       "<p>5 rows × 35 columns</p>\n",
       "</div>"
      ],
      "text/plain": [
       "   Age Attrition     BusinessTravel  DailyRate              Department  \\\n",
       "0   41       Yes      Travel_Rarely       1102                   Sales   \n",
       "1   49        No  Travel_Frequently        279  Research & Development   \n",
       "2   37       Yes      Travel_Rarely       1373  Research & Development   \n",
       "3   33        No  Travel_Frequently       1392  Research & Development   \n",
       "4   27        No      Travel_Rarely        591  Research & Development   \n",
       "\n",
       "   DistanceFromHome  Education EducationField  EmployeeCount  EmployeeNumber  \\\n",
       "0                 1          2  Life Sciences              1               1   \n",
       "1                 8          1  Life Sciences              1               2   \n",
       "2                 2          2          Other              1               4   \n",
       "3                 3          4  Life Sciences              1               5   \n",
       "4                 2          1        Medical              1               7   \n",
       "\n",
       "           ...           RelationshipSatisfaction StandardHours  \\\n",
       "0          ...                                  1            80   \n",
       "1          ...                                  4            80   \n",
       "2          ...                                  2            80   \n",
       "3          ...                                  3            80   \n",
       "4          ...                                  4            80   \n",
       "\n",
       "   StockOptionLevel  TotalWorkingYears  TrainingTimesLastYear WorkLifeBalance  \\\n",
       "0                 0                  8                      0               1   \n",
       "1                 1                 10                      3               3   \n",
       "2                 0                  7                      3               3   \n",
       "3                 0                  8                      3               3   \n",
       "4                 1                  6                      3               3   \n",
       "\n",
       "   YearsAtCompany YearsInCurrentRole  YearsSinceLastPromotion  \\\n",
       "0               6                  4                        0   \n",
       "1              10                  7                        1   \n",
       "2               0                  0                        0   \n",
       "3               8                  7                        3   \n",
       "4               2                  2                        2   \n",
       "\n",
       "   YearsWithCurrManager  \n",
       "0                     5  \n",
       "1                     7  \n",
       "2                     0  \n",
       "3                     0  \n",
       "4                     2  \n",
       "\n",
       "[5 rows x 35 columns]"
      ]
     },
     "execution_count": 2,
     "metadata": {},
     "output_type": "execute_result"
    }
   ],
   "source": [
    "attrition = pd.read_csv(\"IBM-HR-Employee-Attrition.csv\")\n",
    "attrition.head()"
   ]
  },
  {
   "cell_type": "markdown",
   "metadata": {},
   "source": [
    "## EDA"
   ]
  },
  {
   "cell_type": "code",
   "execution_count": 3,
   "metadata": {},
   "outputs": [
    {
     "data": {
      "text/plain": [
       "(1470, 35)"
      ]
     },
     "execution_count": 3,
     "metadata": {},
     "output_type": "execute_result"
    }
   ],
   "source": [
    "attrition.shape  \n",
    "\n",
    "#The dataset has 1470 samples and 35 features"
   ]
  },
  {
   "cell_type": "code",
   "execution_count": 4,
   "metadata": {},
   "outputs": [
    {
     "data": {
      "text/plain": [
       "Series([], dtype: int64)"
      ]
     },
     "execution_count": 4,
     "metadata": {},
     "output_type": "execute_result"
    }
   ],
   "source": [
    "null_sum = attrition.isnull().sum()\n",
    "null_sum[null_sum!=0]\n",
    "\n",
    "# There are no null values present in the data"
   ]
  },
  {
   "cell_type": "code",
   "execution_count": 5,
   "metadata": {
    "scrolled": false
   },
   "outputs": [
    {
     "data": {
      "text/html": [
       "<div>\n",
       "<style scoped>\n",
       "    .dataframe tbody tr th:only-of-type {\n",
       "        vertical-align: middle;\n",
       "    }\n",
       "\n",
       "    .dataframe tbody tr th {\n",
       "        vertical-align: top;\n",
       "    }\n",
       "\n",
       "    .dataframe thead th {\n",
       "        text-align: right;\n",
       "    }\n",
       "</style>\n",
       "<table border=\"1\" class=\"dataframe\">\n",
       "  <thead>\n",
       "    <tr style=\"text-align: right;\">\n",
       "      <th></th>\n",
       "      <th>count</th>\n",
       "      <th>mean</th>\n",
       "      <th>std</th>\n",
       "      <th>min</th>\n",
       "      <th>25%</th>\n",
       "      <th>50%</th>\n",
       "      <th>75%</th>\n",
       "      <th>max</th>\n",
       "    </tr>\n",
       "  </thead>\n",
       "  <tbody>\n",
       "    <tr>\n",
       "      <th>Age</th>\n",
       "      <td>1470.0</td>\n",
       "      <td>36.923810</td>\n",
       "      <td>9.135373</td>\n",
       "      <td>18.0</td>\n",
       "      <td>30.00</td>\n",
       "      <td>36.0</td>\n",
       "      <td>43.00</td>\n",
       "      <td>60.0</td>\n",
       "    </tr>\n",
       "    <tr>\n",
       "      <th>DailyRate</th>\n",
       "      <td>1470.0</td>\n",
       "      <td>802.485714</td>\n",
       "      <td>403.509100</td>\n",
       "      <td>102.0</td>\n",
       "      <td>465.00</td>\n",
       "      <td>802.0</td>\n",
       "      <td>1157.00</td>\n",
       "      <td>1499.0</td>\n",
       "    </tr>\n",
       "    <tr>\n",
       "      <th>DistanceFromHome</th>\n",
       "      <td>1470.0</td>\n",
       "      <td>9.192517</td>\n",
       "      <td>8.106864</td>\n",
       "      <td>1.0</td>\n",
       "      <td>2.00</td>\n",
       "      <td>7.0</td>\n",
       "      <td>14.00</td>\n",
       "      <td>29.0</td>\n",
       "    </tr>\n",
       "    <tr>\n",
       "      <th>Education</th>\n",
       "      <td>1470.0</td>\n",
       "      <td>2.912925</td>\n",
       "      <td>1.024165</td>\n",
       "      <td>1.0</td>\n",
       "      <td>2.00</td>\n",
       "      <td>3.0</td>\n",
       "      <td>4.00</td>\n",
       "      <td>5.0</td>\n",
       "    </tr>\n",
       "    <tr>\n",
       "      <th>EmployeeCount</th>\n",
       "      <td>1470.0</td>\n",
       "      <td>1.000000</td>\n",
       "      <td>0.000000</td>\n",
       "      <td>1.0</td>\n",
       "      <td>1.00</td>\n",
       "      <td>1.0</td>\n",
       "      <td>1.00</td>\n",
       "      <td>1.0</td>\n",
       "    </tr>\n",
       "    <tr>\n",
       "      <th>EmployeeNumber</th>\n",
       "      <td>1470.0</td>\n",
       "      <td>1024.865306</td>\n",
       "      <td>602.024335</td>\n",
       "      <td>1.0</td>\n",
       "      <td>491.25</td>\n",
       "      <td>1020.5</td>\n",
       "      <td>1555.75</td>\n",
       "      <td>2068.0</td>\n",
       "    </tr>\n",
       "    <tr>\n",
       "      <th>EnvironmentSatisfaction</th>\n",
       "      <td>1470.0</td>\n",
       "      <td>2.721769</td>\n",
       "      <td>1.093082</td>\n",
       "      <td>1.0</td>\n",
       "      <td>2.00</td>\n",
       "      <td>3.0</td>\n",
       "      <td>4.00</td>\n",
       "      <td>4.0</td>\n",
       "    </tr>\n",
       "    <tr>\n",
       "      <th>HourlyRate</th>\n",
       "      <td>1470.0</td>\n",
       "      <td>65.891156</td>\n",
       "      <td>20.329428</td>\n",
       "      <td>30.0</td>\n",
       "      <td>48.00</td>\n",
       "      <td>66.0</td>\n",
       "      <td>83.75</td>\n",
       "      <td>100.0</td>\n",
       "    </tr>\n",
       "    <tr>\n",
       "      <th>JobInvolvement</th>\n",
       "      <td>1470.0</td>\n",
       "      <td>2.729932</td>\n",
       "      <td>0.711561</td>\n",
       "      <td>1.0</td>\n",
       "      <td>2.00</td>\n",
       "      <td>3.0</td>\n",
       "      <td>3.00</td>\n",
       "      <td>4.0</td>\n",
       "    </tr>\n",
       "    <tr>\n",
       "      <th>JobLevel</th>\n",
       "      <td>1470.0</td>\n",
       "      <td>2.063946</td>\n",
       "      <td>1.106940</td>\n",
       "      <td>1.0</td>\n",
       "      <td>1.00</td>\n",
       "      <td>2.0</td>\n",
       "      <td>3.00</td>\n",
       "      <td>5.0</td>\n",
       "    </tr>\n",
       "    <tr>\n",
       "      <th>JobSatisfaction</th>\n",
       "      <td>1470.0</td>\n",
       "      <td>2.728571</td>\n",
       "      <td>1.102846</td>\n",
       "      <td>1.0</td>\n",
       "      <td>2.00</td>\n",
       "      <td>3.0</td>\n",
       "      <td>4.00</td>\n",
       "      <td>4.0</td>\n",
       "    </tr>\n",
       "    <tr>\n",
       "      <th>MonthlyIncome</th>\n",
       "      <td>1470.0</td>\n",
       "      <td>6502.931293</td>\n",
       "      <td>4707.956783</td>\n",
       "      <td>1009.0</td>\n",
       "      <td>2911.00</td>\n",
       "      <td>4919.0</td>\n",
       "      <td>8379.00</td>\n",
       "      <td>19999.0</td>\n",
       "    </tr>\n",
       "    <tr>\n",
       "      <th>MonthlyRate</th>\n",
       "      <td>1470.0</td>\n",
       "      <td>14313.103401</td>\n",
       "      <td>7117.786044</td>\n",
       "      <td>2094.0</td>\n",
       "      <td>8047.00</td>\n",
       "      <td>14235.5</td>\n",
       "      <td>20461.50</td>\n",
       "      <td>26999.0</td>\n",
       "    </tr>\n",
       "    <tr>\n",
       "      <th>NumCompaniesWorked</th>\n",
       "      <td>1470.0</td>\n",
       "      <td>2.693197</td>\n",
       "      <td>2.498009</td>\n",
       "      <td>0.0</td>\n",
       "      <td>1.00</td>\n",
       "      <td>2.0</td>\n",
       "      <td>4.00</td>\n",
       "      <td>9.0</td>\n",
       "    </tr>\n",
       "    <tr>\n",
       "      <th>PercentSalaryHike</th>\n",
       "      <td>1470.0</td>\n",
       "      <td>15.209524</td>\n",
       "      <td>3.659938</td>\n",
       "      <td>11.0</td>\n",
       "      <td>12.00</td>\n",
       "      <td>14.0</td>\n",
       "      <td>18.00</td>\n",
       "      <td>25.0</td>\n",
       "    </tr>\n",
       "    <tr>\n",
       "      <th>PerformanceRating</th>\n",
       "      <td>1470.0</td>\n",
       "      <td>3.153741</td>\n",
       "      <td>0.360824</td>\n",
       "      <td>3.0</td>\n",
       "      <td>3.00</td>\n",
       "      <td>3.0</td>\n",
       "      <td>3.00</td>\n",
       "      <td>4.0</td>\n",
       "    </tr>\n",
       "    <tr>\n",
       "      <th>RelationshipSatisfaction</th>\n",
       "      <td>1470.0</td>\n",
       "      <td>2.712245</td>\n",
       "      <td>1.081209</td>\n",
       "      <td>1.0</td>\n",
       "      <td>2.00</td>\n",
       "      <td>3.0</td>\n",
       "      <td>4.00</td>\n",
       "      <td>4.0</td>\n",
       "    </tr>\n",
       "    <tr>\n",
       "      <th>StandardHours</th>\n",
       "      <td>1470.0</td>\n",
       "      <td>80.000000</td>\n",
       "      <td>0.000000</td>\n",
       "      <td>80.0</td>\n",
       "      <td>80.00</td>\n",
       "      <td>80.0</td>\n",
       "      <td>80.00</td>\n",
       "      <td>80.0</td>\n",
       "    </tr>\n",
       "    <tr>\n",
       "      <th>StockOptionLevel</th>\n",
       "      <td>1470.0</td>\n",
       "      <td>0.793878</td>\n",
       "      <td>0.852077</td>\n",
       "      <td>0.0</td>\n",
       "      <td>0.00</td>\n",
       "      <td>1.0</td>\n",
       "      <td>1.00</td>\n",
       "      <td>3.0</td>\n",
       "    </tr>\n",
       "    <tr>\n",
       "      <th>TotalWorkingYears</th>\n",
       "      <td>1470.0</td>\n",
       "      <td>11.279592</td>\n",
       "      <td>7.780782</td>\n",
       "      <td>0.0</td>\n",
       "      <td>6.00</td>\n",
       "      <td>10.0</td>\n",
       "      <td>15.00</td>\n",
       "      <td>40.0</td>\n",
       "    </tr>\n",
       "    <tr>\n",
       "      <th>TrainingTimesLastYear</th>\n",
       "      <td>1470.0</td>\n",
       "      <td>2.799320</td>\n",
       "      <td>1.289271</td>\n",
       "      <td>0.0</td>\n",
       "      <td>2.00</td>\n",
       "      <td>3.0</td>\n",
       "      <td>3.00</td>\n",
       "      <td>6.0</td>\n",
       "    </tr>\n",
       "    <tr>\n",
       "      <th>WorkLifeBalance</th>\n",
       "      <td>1470.0</td>\n",
       "      <td>2.761224</td>\n",
       "      <td>0.706476</td>\n",
       "      <td>1.0</td>\n",
       "      <td>2.00</td>\n",
       "      <td>3.0</td>\n",
       "      <td>3.00</td>\n",
       "      <td>4.0</td>\n",
       "    </tr>\n",
       "    <tr>\n",
       "      <th>YearsAtCompany</th>\n",
       "      <td>1470.0</td>\n",
       "      <td>7.008163</td>\n",
       "      <td>6.126525</td>\n",
       "      <td>0.0</td>\n",
       "      <td>3.00</td>\n",
       "      <td>5.0</td>\n",
       "      <td>9.00</td>\n",
       "      <td>40.0</td>\n",
       "    </tr>\n",
       "    <tr>\n",
       "      <th>YearsInCurrentRole</th>\n",
       "      <td>1470.0</td>\n",
       "      <td>4.229252</td>\n",
       "      <td>3.623137</td>\n",
       "      <td>0.0</td>\n",
       "      <td>2.00</td>\n",
       "      <td>3.0</td>\n",
       "      <td>7.00</td>\n",
       "      <td>18.0</td>\n",
       "    </tr>\n",
       "    <tr>\n",
       "      <th>YearsSinceLastPromotion</th>\n",
       "      <td>1470.0</td>\n",
       "      <td>2.187755</td>\n",
       "      <td>3.222430</td>\n",
       "      <td>0.0</td>\n",
       "      <td>0.00</td>\n",
       "      <td>1.0</td>\n",
       "      <td>3.00</td>\n",
       "      <td>15.0</td>\n",
       "    </tr>\n",
       "    <tr>\n",
       "      <th>YearsWithCurrManager</th>\n",
       "      <td>1470.0</td>\n",
       "      <td>4.123129</td>\n",
       "      <td>3.568136</td>\n",
       "      <td>0.0</td>\n",
       "      <td>2.00</td>\n",
       "      <td>3.0</td>\n",
       "      <td>7.00</td>\n",
       "      <td>17.0</td>\n",
       "    </tr>\n",
       "  </tbody>\n",
       "</table>\n",
       "</div>"
      ],
      "text/plain": [
       "                           count          mean          std     min      25%  \\\n",
       "Age                       1470.0     36.923810     9.135373    18.0    30.00   \n",
       "DailyRate                 1470.0    802.485714   403.509100   102.0   465.00   \n",
       "DistanceFromHome          1470.0      9.192517     8.106864     1.0     2.00   \n",
       "Education                 1470.0      2.912925     1.024165     1.0     2.00   \n",
       "EmployeeCount             1470.0      1.000000     0.000000     1.0     1.00   \n",
       "EmployeeNumber            1470.0   1024.865306   602.024335     1.0   491.25   \n",
       "EnvironmentSatisfaction   1470.0      2.721769     1.093082     1.0     2.00   \n",
       "HourlyRate                1470.0     65.891156    20.329428    30.0    48.00   \n",
       "JobInvolvement            1470.0      2.729932     0.711561     1.0     2.00   \n",
       "JobLevel                  1470.0      2.063946     1.106940     1.0     1.00   \n",
       "JobSatisfaction           1470.0      2.728571     1.102846     1.0     2.00   \n",
       "MonthlyIncome             1470.0   6502.931293  4707.956783  1009.0  2911.00   \n",
       "MonthlyRate               1470.0  14313.103401  7117.786044  2094.0  8047.00   \n",
       "NumCompaniesWorked        1470.0      2.693197     2.498009     0.0     1.00   \n",
       "PercentSalaryHike         1470.0     15.209524     3.659938    11.0    12.00   \n",
       "PerformanceRating         1470.0      3.153741     0.360824     3.0     3.00   \n",
       "RelationshipSatisfaction  1470.0      2.712245     1.081209     1.0     2.00   \n",
       "StandardHours             1470.0     80.000000     0.000000    80.0    80.00   \n",
       "StockOptionLevel          1470.0      0.793878     0.852077     0.0     0.00   \n",
       "TotalWorkingYears         1470.0     11.279592     7.780782     0.0     6.00   \n",
       "TrainingTimesLastYear     1470.0      2.799320     1.289271     0.0     2.00   \n",
       "WorkLifeBalance           1470.0      2.761224     0.706476     1.0     2.00   \n",
       "YearsAtCompany            1470.0      7.008163     6.126525     0.0     3.00   \n",
       "YearsInCurrentRole        1470.0      4.229252     3.623137     0.0     2.00   \n",
       "YearsSinceLastPromotion   1470.0      2.187755     3.222430     0.0     0.00   \n",
       "YearsWithCurrManager      1470.0      4.123129     3.568136     0.0     2.00   \n",
       "\n",
       "                              50%       75%      max  \n",
       "Age                          36.0     43.00     60.0  \n",
       "DailyRate                   802.0   1157.00   1499.0  \n",
       "DistanceFromHome              7.0     14.00     29.0  \n",
       "Education                     3.0      4.00      5.0  \n",
       "EmployeeCount                 1.0      1.00      1.0  \n",
       "EmployeeNumber             1020.5   1555.75   2068.0  \n",
       "EnvironmentSatisfaction       3.0      4.00      4.0  \n",
       "HourlyRate                   66.0     83.75    100.0  \n",
       "JobInvolvement                3.0      3.00      4.0  \n",
       "JobLevel                      2.0      3.00      5.0  \n",
       "JobSatisfaction               3.0      4.00      4.0  \n",
       "MonthlyIncome              4919.0   8379.00  19999.0  \n",
       "MonthlyRate               14235.5  20461.50  26999.0  \n",
       "NumCompaniesWorked            2.0      4.00      9.0  \n",
       "PercentSalaryHike            14.0     18.00     25.0  \n",
       "PerformanceRating             3.0      3.00      4.0  \n",
       "RelationshipSatisfaction      3.0      4.00      4.0  \n",
       "StandardHours                80.0     80.00     80.0  \n",
       "StockOptionLevel              1.0      1.00      3.0  \n",
       "TotalWorkingYears            10.0     15.00     40.0  \n",
       "TrainingTimesLastYear         3.0      3.00      6.0  \n",
       "WorkLifeBalance               3.0      3.00      4.0  \n",
       "YearsAtCompany                5.0      9.00     40.0  \n",
       "YearsInCurrentRole            3.0      7.00     18.0  \n",
       "YearsSinceLastPromotion       1.0      3.00     15.0  \n",
       "YearsWithCurrManager          3.0      7.00     17.0  "
      ]
     },
     "execution_count": 5,
     "metadata": {},
     "output_type": "execute_result"
    }
   ],
   "source": [
    "attrition.describe().transpose()"
   ]
  },
  {
   "cell_type": "markdown",
   "metadata": {},
   "source": [
    "###### By the above description, we can see that mean and median are nearly same for all the features (except MonthlyIncome) and hence the outlier presence is less. Let's check with the box plot !!!"
   ]
  },
  {
   "cell_type": "markdown",
   "metadata": {},
   "source": [
    "### Outlier checking and treating it"
   ]
  },
  {
   "cell_type": "code",
   "execution_count": 6,
   "metadata": {},
   "outputs": [
    {
     "data": {
      "text/plain": [
       "(array([ 0,  1,  2,  3,  4,  5,  6,  7,  8,  9, 10, 11, 12, 13, 14, 15, 16,\n",
       "        17, 18, 19, 20, 21, 22, 23, 24, 25]),\n",
       " <a list of 26 Text xticklabel objects>)"
      ]
     },
     "execution_count": 6,
     "metadata": {},
     "output_type": "execute_result"
    },
    {
     "data": {
      "image/png": "[encoded data removed]",
      "text/plain": [
       "<Figure size 720x360 with 1 Axes>"
      ]
     },
     "metadata": {},
     "output_type": "display_data"
    }
   ],
   "source": [
    "plt.figure(figsize=(10,5))\n",
    "sns.boxplot(data=attrition)\n",
    "plt.xticks(rotation=90)\n",
    "\n",
    "# By looking the box plot, we can see that there are some outliers \n",
    "# in the \"Monthly Income\" Feature as we expected !!!\n",
    "\n",
    "# Since, the outliers are not so far.. instead of removing the outliers, we can perform capping !!\n"
   ]
  },
  {
   "cell_type": "code",
   "execution_count": 7,
   "metadata": {},
   "outputs": [
    {
     "name": "stdout",
     "output_type": "stream",
     "text": [
      "Upper Range:\t 16581.0\n",
      "\n",
      "Lower Range:\t 177.0\n"
     ]
    }
   ],
   "source": [
    "# Let's find the upper range and lower range for the feature \"MonthlyIncome\"\n",
    "\n",
    "Q_3 = attrition.MonthlyIncome.quantile(.75)\n",
    "Q_1 = attrition.MonthlyIncome.quantile(.25)\n",
    "\n",
    "IQR = Q_3 - Q_1\n",
    "\n",
    "upper_range = Q_3 + 1.5 * IQR\n",
    "\n",
    "lower_range = Q_3 - 1.5 * IQR\n",
    "\n",
    "print(\"Upper Range:\\t\",upper_range)\n",
    "print(\"\\nLower Range:\\t\",lower_range)\n"
   ]
  },
  {
   "cell_type": "code",
   "execution_count": 8,
   "metadata": {},
   "outputs": [
    {
     "data": {
      "text/plain": [
       "114"
      ]
     },
     "execution_count": 8,
     "metadata": {},
     "output_type": "execute_result"
    }
   ],
   "source": [
    "attrition.MonthlyIncome[attrition.MonthlyIncome>upper_range].count()\n",
    "\n",
    "# There are 114 samples has range greater than upper range. We can cap them"
   ]
  },
  {
   "cell_type": "code",
   "execution_count": 9,
   "metadata": {},
   "outputs": [],
   "source": [
    "# Cap the outliers with the use of np.where function\n",
    "\n",
    "# np.where(condition,new_data,Old_data)\n",
    "\n",
    "attrition.MonthlyIncome = np.where(attrition.MonthlyIncome>upper_range,\n",
    "                                                          upper_range,attrition.MonthlyIncome)"
   ]
  },
  {
   "cell_type": "code",
   "execution_count": 10,
   "metadata": {},
   "outputs": [
    {
     "data": {
      "text/plain": [
       "0"
      ]
     },
     "execution_count": 10,
     "metadata": {},
     "output_type": "execute_result"
    }
   ],
   "source": [
    "attrition.MonthlyIncome[attrition.MonthlyIncome>upper_range].count()\n",
    "\n",
    "# All the outliers are capped now. Let's check the box plot now"
   ]
  },
  {
   "cell_type": "code",
   "execution_count": 11,
   "metadata": {},
   "outputs": [
    {
     "data": {
      "text/plain": [
       "(array([ 0,  1,  2,  3,  4,  5,  6,  7,  8,  9, 10, 11, 12, 13, 14, 15, 16,\n",
       "        17, 18, 19, 20, 21, 22, 23, 24, 25]),\n",
       " <a list of 26 Text xticklabel objects>)"
      ]
     },
     "execution_count": 11,
     "metadata": {},
     "output_type": "execute_result"
    },
    {
     "data": {
      "image/png": "[encoded data removed]",
      "text/plain": [
       "<Figure size 720x360 with 1 Axes>"
      ]
     },
     "metadata": {},
     "output_type": "display_data"
    }
   ],
   "source": [
    "plt.figure(figsize=(10,5))\n",
    "sns.boxplot(data=attrition)\n",
    "plt.xticks(rotation=90)\n",
    "\n",
    "# Now, there is no outliers"
   ]
  },
  {
   "cell_type": "markdown",
   "metadata": {},
   "source": [
    "### Categorical (text) to Categorical (numerical) conversion"
   ]
  },
  {
   "cell_type": "code",
   "execution_count": 12,
   "metadata": {},
   "outputs": [
    {
     "data": {
      "text/plain": [
       "9"
      ]
     },
     "execution_count": 12,
     "metadata": {},
     "output_type": "execute_result"
    }
   ],
   "source": [
    "object_columns = list(attrition.select_dtypes(include=\"object\").columns)\n",
    "\n",
    "len(object_columns)\n",
    "\n",
    "# So,There are totally 9 features which has categorical data in the form of text.\n",
    "# We need to convert into numerical data"
   ]
  },
  {
   "cell_type": "code",
   "execution_count": 13,
   "metadata": {},
   "outputs": [
    {
     "data": {
      "text/plain": [
       "{'Attrition': [('No', 0), ('Yes', 1)],\n",
       " 'BusinessTravel': [('Non-Travel', 0),\n",
       "  ('Travel_Frequently', 1),\n",
       "  ('Travel_Rarely', 2)],\n",
       " 'Department': [('Human Resources', 0),\n",
       "  ('Research & Development', 1),\n",
       "  ('Sales', 2)],\n",
       " 'EducationField': [('Human Resources', 0),\n",
       "  ('Life Sciences', 1),\n",
       "  ('Marketing', 2),\n",
       "  ('Medical', 3),\n",
       "  ('Other', 4),\n",
       "  ('Technical Degree', 5)],\n",
       " 'Gender': [('Female', 0), ('Male', 1)],\n",
       " 'JobRole': [('Healthcare Representative', 0),\n",
       "  ('Human Resources', 1),\n",
       "  ('Laboratory Technician', 2),\n",
       "  ('Manager', 3),\n",
       "  ('Manufacturing Director', 4),\n",
       "  ('Research Director', 5),\n",
       "  ('Research Scientist', 6),\n",
       "  ('Sales Executive', 7),\n",
       "  ('Sales Representative', 8)],\n",
       " 'MaritalStatus': [('Divorced', 0), ('Married', 1), ('Single', 2)],\n",
       " 'Over18': [('Y', 0)],\n",
       " 'OverTime': [('No', 0), ('Yes', 1)]}"
      ]
     },
     "execution_count": 13,
     "metadata": {},
     "output_type": "execute_result"
    }
   ],
   "source": [
    "# This loop will give us the view that, if we use label encoder to convert the text to numerical\n",
    "# data, what texts will be converted into what numbers. (Because when we use label encoder, it\n",
    "# doesn't show which text converted to which numbers )\n",
    "\n",
    "replace_values = {}\n",
    "for i in object_columns:\n",
    "    k=0\n",
    "    temp=[]\n",
    "    ab=list(attrition[i].unique())\n",
    "    ab.sort()\n",
    "    for j in ab:\n",
    "        temp.append((j,k))\n",
    "        k=k+1\n",
    "    replace_values[i]=temp\n",
    "\n",
    "replace_values        "
   ]
  },
  {
   "cell_type": "code",
   "execution_count": 14,
   "metadata": {},
   "outputs": [
    {
     "data": {
      "text/html": [
       "<div>\n",
       "<style scoped>\n",
       "    .dataframe tbody tr th:only-of-type {\n",
       "        vertical-align: middle;\n",
       "    }\n",
       "\n",
       "    .dataframe tbody tr th {\n",
       "        vertical-align: top;\n",
       "    }\n",
       "\n",
       "    .dataframe thead th {\n",
       "        text-align: right;\n",
       "    }\n",
       "</style>\n",
       "<table border=\"1\" class=\"dataframe\">\n",
       "  <thead>\n",
       "    <tr style=\"text-align: right;\">\n",
       "      <th></th>\n",
       "      <th>Attrition</th>\n",
       "      <th>BusinessTravel</th>\n",
       "      <th>Department</th>\n",
       "      <th>EducationField</th>\n",
       "      <th>Gender</th>\n",
       "      <th>JobRole</th>\n",
       "      <th>MaritalStatus</th>\n",
       "      <th>Over18</th>\n",
       "      <th>OverTime</th>\n",
       "    </tr>\n",
       "  </thead>\n",
       "  <tbody>\n",
       "    <tr>\n",
       "      <th>0</th>\n",
       "      <td>1</td>\n",
       "      <td>2</td>\n",
       "      <td>2</td>\n",
       "      <td>1</td>\n",
       "      <td>0</td>\n",
       "      <td>7</td>\n",
       "      <td>2</td>\n",
       "      <td>0</td>\n",
       "      <td>1</td>\n",
       "    </tr>\n",
       "    <tr>\n",
       "      <th>1</th>\n",
       "      <td>0</td>\n",
       "      <td>1</td>\n",
       "      <td>1</td>\n",
       "      <td>1</td>\n",
       "      <td>1</td>\n",
       "      <td>6</td>\n",
       "      <td>1</td>\n",
       "      <td>0</td>\n",
       "      <td>0</td>\n",
       "    </tr>\n",
       "    <tr>\n",
       "      <th>2</th>\n",
       "      <td>1</td>\n",
       "      <td>2</td>\n",
       "      <td>1</td>\n",
       "      <td>4</td>\n",
       "      <td>1</td>\n",
       "      <td>2</td>\n",
       "      <td>2</td>\n",
       "      <td>0</td>\n",
       "      <td>1</td>\n",
       "    </tr>\n",
       "    <tr>\n",
       "      <th>3</th>\n",
       "      <td>0</td>\n",
       "      <td>1</td>\n",
       "      <td>1</td>\n",
       "      <td>1</td>\n",
       "      <td>0</td>\n",
       "      <td>6</td>\n",
       "      <td>1</td>\n",
       "      <td>0</td>\n",
       "      <td>1</td>\n",
       "    </tr>\n",
       "    <tr>\n",
       "      <th>4</th>\n",
       "      <td>0</td>\n",
       "      <td>2</td>\n",
       "      <td>1</td>\n",
       "      <td>3</td>\n",
       "      <td>1</td>\n",
       "      <td>2</td>\n",
       "      <td>1</td>\n",
       "      <td>0</td>\n",
       "      <td>0</td>\n",
       "    </tr>\n",
       "  </tbody>\n",
       "</table>\n",
       "</div>"
      ],
      "text/plain": [
       "   Attrition  BusinessTravel  Department  EducationField  Gender  JobRole  \\\n",
       "0          1               2           2               1       0        7   \n",
       "1          0               1           1               1       1        6   \n",
       "2          1               2           1               4       1        2   \n",
       "3          0               1           1               1       0        6   \n",
       "4          0               2           1               3       1        2   \n",
       "\n",
       "   MaritalStatus  Over18  OverTime  \n",
       "0              2       0         1  \n",
       "1              1       0         0  \n",
       "2              2       0         1  \n",
       "3              1       0         1  \n",
       "4              1       0         0  "
      ]
     },
     "execution_count": 14,
     "metadata": {},
     "output_type": "execute_result"
    }
   ],
   "source": [
    "# Let's convert the text features into the numerical features by the use of LabelEncoder\n",
    "\n",
    "le = LabelEncoder()\n",
    "df_categorical = attrition.select_dtypes(include=['object'])\n",
    "df_categorical = df_categorical.apply(le.fit_transform)\n",
    "df_categorical.head()"
   ]
  },
  {
   "cell_type": "code",
   "execution_count": 15,
   "metadata": {},
   "outputs": [
    {
     "data": {
      "text/html": [
       "<div>\n",
       "<style scoped>\n",
       "    .dataframe tbody tr th:only-of-type {\n",
       "        vertical-align: middle;\n",
       "    }\n",
       "\n",
       "    .dataframe tbody tr th {\n",
       "        vertical-align: top;\n",
       "    }\n",
       "\n",
       "    .dataframe thead th {\n",
       "        text-align: right;\n",
       "    }\n",
       "</style>\n",
       "<table border=\"1\" class=\"dataframe\">\n",
       "  <thead>\n",
       "    <tr style=\"text-align: right;\">\n",
       "      <th></th>\n",
       "      <th>Age</th>\n",
       "      <th>DailyRate</th>\n",
       "      <th>DistanceFromHome</th>\n",
       "      <th>Education</th>\n",
       "      <th>EmployeeCount</th>\n",
       "      <th>EmployeeNumber</th>\n",
       "      <th>EnvironmentSatisfaction</th>\n",
       "      <th>HourlyRate</th>\n",
       "      <th>JobInvolvement</th>\n",
       "      <th>JobLevel</th>\n",
       "      <th>...</th>\n",
       "      <th>YearsWithCurrManager</th>\n",
       "      <th>Attrition</th>\n",
       "      <th>BusinessTravel</th>\n",
       "      <th>Department</th>\n",
       "      <th>EducationField</th>\n",
       "      <th>Gender</th>\n",
       "      <th>JobRole</th>\n",
       "      <th>MaritalStatus</th>\n",
       "      <th>Over18</th>\n",
       "      <th>OverTime</th>\n",
       "    </tr>\n",
       "  </thead>\n",
       "  <tbody>\n",
       "    <tr>\n",
       "      <th>0</th>\n",
       "      <td>41</td>\n",
       "      <td>1102</td>\n",
       "      <td>1</td>\n",
       "      <td>2</td>\n",
       "      <td>1</td>\n",
       "      <td>1</td>\n",
       "      <td>2</td>\n",
       "      <td>94</td>\n",
       "      <td>3</td>\n",
       "      <td>2</td>\n",
       "      <td>...</td>\n",
       "      <td>5</td>\n",
       "      <td>1</td>\n",
       "      <td>2</td>\n",
       "      <td>2</td>\n",
       "      <td>1</td>\n",
       "      <td>0</td>\n",
       "      <td>7</td>\n",
       "      <td>2</td>\n",
       "      <td>0</td>\n",
       "      <td>1</td>\n",
       "    </tr>\n",
       "    <tr>\n",
       "      <th>1</th>\n",
       "      <td>49</td>\n",
       "      <td>279</td>\n",
       "      <td>8</td>\n",
       "      <td>1</td>\n",
       "      <td>1</td>\n",
       "      <td>2</td>\n",
       "      <td>3</td>\n",
       "      <td>61</td>\n",
       "      <td>2</td>\n",
       "      <td>2</td>\n",
       "      <td>...</td>\n",
       "      <td>7</td>\n",
       "      <td>0</td>\n",
       "      <td>1</td>\n",
       "      <td>1</td>\n",
       "      <td>1</td>\n",
       "      <td>1</td>\n",
       "      <td>6</td>\n",
       "      <td>1</td>\n",
       "      <td>0</td>\n",
       "      <td>0</td>\n",
       "    </tr>\n",
       "    <tr>\n",
       "      <th>2</th>\n",
       "      <td>37</td>\n",
       "      <td>1373</td>\n",
       "      <td>2</td>\n",
       "      <td>2</td>\n",
       "      <td>1</td>\n",
       "      <td>4</td>\n",
       "      <td>4</td>\n",
       "      <td>92</td>\n",
       "      <td>2</td>\n",
       "      <td>1</td>\n",
       "      <td>...</td>\n",
       "      <td>0</td>\n",
       "      <td>1</td>\n",
       "      <td>2</td>\n",
       "      <td>1</td>\n",
       "      <td>4</td>\n",
       "      <td>1</td>\n",
       "      <td>2</td>\n",
       "      <td>2</td>\n",
       "      <td>0</td>\n",
       "      <td>1</td>\n",
       "    </tr>\n",
       "    <tr>\n",
       "      <th>3</th>\n",
       "      <td>33</td>\n",
       "      <td>1392</td>\n",
       "      <td>3</td>\n",
       "      <td>4</td>\n",
       "      <td>1</td>\n",
       "      <td>5</td>\n",
       "      <td>4</td>\n",
       "      <td>56</td>\n",
       "      <td>3</td>\n",
       "      <td>1</td>\n",
       "      <td>...</td>\n",
       "      <td>0</td>\n",
       "      <td>0</td>\n",
       "      <td>1</td>\n",
       "      <td>1</td>\n",
       "      <td>1</td>\n",
       "      <td>0</td>\n",
       "      <td>6</td>\n",
       "      <td>1</td>\n",
       "      <td>0</td>\n",
       "      <td>1</td>\n",
       "    </tr>\n",
       "    <tr>\n",
       "      <th>4</th>\n",
       "      <td>27</td>\n",
       "      <td>591</td>\n",
       "      <td>2</td>\n",
       "      <td>1</td>\n",
       "      <td>1</td>\n",
       "      <td>7</td>\n",
       "      <td>1</td>\n",
       "      <td>40</td>\n",
       "      <td>3</td>\n",
       "      <td>1</td>\n",
       "      <td>...</td>\n",
       "      <td>2</td>\n",
       "      <td>0</td>\n",
       "      <td>2</td>\n",
       "      <td>1</td>\n",
       "      <td>3</td>\n",
       "      <td>1</td>\n",
       "      <td>2</td>\n",
       "      <td>1</td>\n",
       "      <td>0</td>\n",
       "      <td>0</td>\n",
       "    </tr>\n",
       "  </tbody>\n",
       "</table>\n",
       "<p>5 rows × 35 columns</p>\n",
       "</div>"
      ],
      "text/plain": [
       "   Age  DailyRate  DistanceFromHome  Education  EmployeeCount  EmployeeNumber  \\\n",
       "0   41       1102                 1          2              1               1   \n",
       "1   49        279                 8          1              1               2   \n",
       "2   37       1373                 2          2              1               4   \n",
       "3   33       1392                 3          4              1               5   \n",
       "4   27        591                 2          1              1               7   \n",
       "\n",
       "   EnvironmentSatisfaction  HourlyRate  JobInvolvement  JobLevel    ...     \\\n",
       "0                        2          94               3         2    ...      \n",
       "1                        3          61               2         2    ...      \n",
       "2                        4          92               2         1    ...      \n",
       "3                        4          56               3         1    ...      \n",
       "4                        1          40               3         1    ...      \n",
       "\n",
       "   YearsWithCurrManager  Attrition  BusinessTravel  Department  \\\n",
       "0                     5          1               2           2   \n",
       "1                     7          0               1           1   \n",
       "2                     0          1               2           1   \n",
       "3                     0          0               1           1   \n",
       "4                     2          0               2           1   \n",
       "\n",
       "   EducationField  Gender  JobRole  MaritalStatus  Over18  OverTime  \n",
       "0               1       0        7              2       0         1  \n",
       "1               1       1        6              1       0         0  \n",
       "2               4       1        2              2       0         1  \n",
       "3               1       0        6              1       0         1  \n",
       "4               3       1        2              1       0         0  \n",
       "\n",
       "[5 rows x 35 columns]"
      ]
     },
     "execution_count": 15,
     "metadata": {},
     "output_type": "execute_result"
    }
   ],
   "source": [
    "#Remove the original categorical(text) features and add the numerically converted features\n",
    "\n",
    "attrition_copy = pd.DataFrame(attrition) # For backup/Reference\n",
    "\n",
    "for m in df_categorical.columns:\n",
    "    attrition.drop(m,axis=1,inplace=True)\n",
    "\n",
    "    \n",
    "attrition=pd.concat([attrition,df_categorical],axis=1)\n",
    "attrition.head()"
   ]
  },
  {
   "cell_type": "markdown",
   "metadata": {},
   "source": [
    "### Check the correlation matrix and find the strength"
   ]
  },
  {
   "cell_type": "code",
   "execution_count": 16,
   "metadata": {},
   "outputs": [
    {
     "data": {
      "text/html": [
       "<div>\n",
       "<style scoped>\n",
       "    .dataframe tbody tr th:only-of-type {\n",
       "        vertical-align: middle;\n",
       "    }\n",
       "\n",
       "    .dataframe tbody tr th {\n",
       "        vertical-align: top;\n",
       "    }\n",
       "\n",
       "    .dataframe thead th {\n",
       "        text-align: right;\n",
       "    }\n",
       "</style>\n",
       "<table border=\"1\" class=\"dataframe\">\n",
       "  <thead>\n",
       "    <tr style=\"text-align: right;\">\n",
       "      <th></th>\n",
       "      <th>Attrition</th>\n",
       "      <th>Absolute_Corr</th>\n",
       "    </tr>\n",
       "  </thead>\n",
       "  <tbody>\n",
       "    <tr>\n",
       "      <th>Attrition</th>\n",
       "      <td>1.000000</td>\n",
       "      <td>1.000000</td>\n",
       "    </tr>\n",
       "    <tr>\n",
       "      <th>OverTime</th>\n",
       "      <td>0.246118</td>\n",
       "      <td>0.246118</td>\n",
       "    </tr>\n",
       "    <tr>\n",
       "      <th>TotalWorkingYears</th>\n",
       "      <td>-0.171063</td>\n",
       "      <td>0.171063</td>\n",
       "    </tr>\n",
       "    <tr>\n",
       "      <th>JobLevel</th>\n",
       "      <td>-0.169105</td>\n",
       "      <td>0.169105</td>\n",
       "    </tr>\n",
       "    <tr>\n",
       "      <th>MonthlyIncome</th>\n",
       "      <td>-0.164778</td>\n",
       "      <td>0.164778</td>\n",
       "    </tr>\n",
       "    <tr>\n",
       "      <th>MaritalStatus</th>\n",
       "      <td>0.162070</td>\n",
       "      <td>0.162070</td>\n",
       "    </tr>\n",
       "    <tr>\n",
       "      <th>YearsInCurrentRole</th>\n",
       "      <td>-0.160545</td>\n",
       "      <td>0.160545</td>\n",
       "    </tr>\n",
       "    <tr>\n",
       "      <th>Age</th>\n",
       "      <td>-0.159205</td>\n",
       "      <td>0.159205</td>\n",
       "    </tr>\n",
       "    <tr>\n",
       "      <th>YearsWithCurrManager</th>\n",
       "      <td>-0.156199</td>\n",
       "      <td>0.156199</td>\n",
       "    </tr>\n",
       "    <tr>\n",
       "      <th>StockOptionLevel</th>\n",
       "      <td>-0.137145</td>\n",
       "      <td>0.137145</td>\n",
       "    </tr>\n",
       "    <tr>\n",
       "      <th>YearsAtCompany</th>\n",
       "      <td>-0.134392</td>\n",
       "      <td>0.134392</td>\n",
       "    </tr>\n",
       "    <tr>\n",
       "      <th>JobInvolvement</th>\n",
       "      <td>-0.130016</td>\n",
       "      <td>0.130016</td>\n",
       "    </tr>\n",
       "    <tr>\n",
       "      <th>JobSatisfaction</th>\n",
       "      <td>-0.103481</td>\n",
       "      <td>0.103481</td>\n",
       "    </tr>\n",
       "    <tr>\n",
       "      <th>EnvironmentSatisfaction</th>\n",
       "      <td>-0.103369</td>\n",
       "      <td>0.103369</td>\n",
       "    </tr>\n",
       "    <tr>\n",
       "      <th>DistanceFromHome</th>\n",
       "      <td>0.077924</td>\n",
       "      <td>0.077924</td>\n",
       "    </tr>\n",
       "    <tr>\n",
       "      <th>JobRole</th>\n",
       "      <td>0.067151</td>\n",
       "      <td>0.067151</td>\n",
       "    </tr>\n",
       "    <tr>\n",
       "      <th>Department</th>\n",
       "      <td>0.063991</td>\n",
       "      <td>0.063991</td>\n",
       "    </tr>\n",
       "    <tr>\n",
       "      <th>WorkLifeBalance</th>\n",
       "      <td>-0.063939</td>\n",
       "      <td>0.063939</td>\n",
       "    </tr>\n",
       "    <tr>\n",
       "      <th>TrainingTimesLastYear</th>\n",
       "      <td>-0.059478</td>\n",
       "      <td>0.059478</td>\n",
       "    </tr>\n",
       "    <tr>\n",
       "      <th>DailyRate</th>\n",
       "      <td>-0.056652</td>\n",
       "      <td>0.056652</td>\n",
       "    </tr>\n",
       "    <tr>\n",
       "      <th>RelationshipSatisfaction</th>\n",
       "      <td>-0.045872</td>\n",
       "      <td>0.045872</td>\n",
       "    </tr>\n",
       "    <tr>\n",
       "      <th>NumCompaniesWorked</th>\n",
       "      <td>0.043494</td>\n",
       "      <td>0.043494</td>\n",
       "    </tr>\n",
       "    <tr>\n",
       "      <th>YearsSinceLastPromotion</th>\n",
       "      <td>-0.033019</td>\n",
       "      <td>0.033019</td>\n",
       "    </tr>\n",
       "    <tr>\n",
       "      <th>Education</th>\n",
       "      <td>-0.031373</td>\n",
       "      <td>0.031373</td>\n",
       "    </tr>\n",
       "    <tr>\n",
       "      <th>Gender</th>\n",
       "      <td>0.029453</td>\n",
       "      <td>0.029453</td>\n",
       "    </tr>\n",
       "    <tr>\n",
       "      <th>EducationField</th>\n",
       "      <td>0.026846</td>\n",
       "      <td>0.026846</td>\n",
       "    </tr>\n",
       "    <tr>\n",
       "      <th>MonthlyRate</th>\n",
       "      <td>0.015170</td>\n",
       "      <td>0.015170</td>\n",
       "    </tr>\n",
       "    <tr>\n",
       "      <th>PercentSalaryHike</th>\n",
       "      <td>-0.013478</td>\n",
       "      <td>0.013478</td>\n",
       "    </tr>\n",
       "    <tr>\n",
       "      <th>EmployeeNumber</th>\n",
       "      <td>-0.010577</td>\n",
       "      <td>0.010577</td>\n",
       "    </tr>\n",
       "    <tr>\n",
       "      <th>HourlyRate</th>\n",
       "      <td>-0.006846</td>\n",
       "      <td>0.006846</td>\n",
       "    </tr>\n",
       "    <tr>\n",
       "      <th>PerformanceRating</th>\n",
       "      <td>0.002889</td>\n",
       "      <td>0.002889</td>\n",
       "    </tr>\n",
       "    <tr>\n",
       "      <th>BusinessTravel</th>\n",
       "      <td>0.000074</td>\n",
       "      <td>0.000074</td>\n",
       "    </tr>\n",
       "    <tr>\n",
       "      <th>EmployeeCount</th>\n",
       "      <td>NaN</td>\n",
       "      <td>NaN</td>\n",
       "    </tr>\n",
       "    <tr>\n",
       "      <th>StandardHours</th>\n",
       "      <td>NaN</td>\n",
       "      <td>NaN</td>\n",
       "    </tr>\n",
       "    <tr>\n",
       "      <th>Over18</th>\n",
       "      <td>NaN</td>\n",
       "      <td>NaN</td>\n",
       "    </tr>\n",
       "  </tbody>\n",
       "</table>\n",
       "</div>"
      ],
      "text/plain": [
       "                          Attrition  Absolute_Corr\n",
       "Attrition                  1.000000       1.000000\n",
       "OverTime                   0.246118       0.246118\n",
       "TotalWorkingYears         -0.171063       0.171063\n",
       "JobLevel                  -0.169105       0.169105\n",
       "MonthlyIncome             -0.164778       0.164778\n",
       "MaritalStatus              0.162070       0.162070\n",
       "YearsInCurrentRole        -0.160545       0.160545\n",
       "Age                       -0.159205       0.159205\n",
       "YearsWithCurrManager      -0.156199       0.156199\n",
       "StockOptionLevel          -0.137145       0.137145\n",
       "YearsAtCompany            -0.134392       0.134392\n",
       "JobInvolvement            -0.130016       0.130016\n",
       "JobSatisfaction           -0.103481       0.103481\n",
       "EnvironmentSatisfaction   -0.103369       0.103369\n",
       "DistanceFromHome           0.077924       0.077924\n",
       "JobRole                    0.067151       0.067151\n",
       "Department                 0.063991       0.063991\n",
       "WorkLifeBalance           -0.063939       0.063939\n",
       "TrainingTimesLastYear     -0.059478       0.059478\n",
       "DailyRate                 -0.056652       0.056652\n",
       "RelationshipSatisfaction  -0.045872       0.045872\n",
       "NumCompaniesWorked         0.043494       0.043494\n",
       "YearsSinceLastPromotion   -0.033019       0.033019\n",
       "Education                 -0.031373       0.031373\n",
       "Gender                     0.029453       0.029453\n",
       "EducationField             0.026846       0.026846\n",
       "MonthlyRate                0.015170       0.015170\n",
       "PercentSalaryHike         -0.013478       0.013478\n",
       "EmployeeNumber            -0.010577       0.010577\n",
       "HourlyRate                -0.006846       0.006846\n",
       "PerformanceRating          0.002889       0.002889\n",
       "BusinessTravel             0.000074       0.000074\n",
       "EmployeeCount                   NaN            NaN\n",
       "StandardHours                   NaN            NaN\n",
       "Over18                          NaN            NaN"
      ]
     },
     "execution_count": 16,
     "metadata": {},
     "output_type": "execute_result"
    }
   ],
   "source": [
    "cor_df=pd.DataFrame(attrition.corr()[\"Attrition\"])\n",
    "cor_df[\"Absolute_Corr\"]=abs(cor_df[\"Attrition\"])\n",
    "cor_df.sort_values(by=\"Absolute_Corr\",ascending=False)"
   ]
  },
  {
   "cell_type": "code",
   "execution_count": 17,
   "metadata": {},
   "outputs": [
    {
     "data": {
      "text/plain": [
       "<matplotlib.axes._subplots.AxesSubplot at 0x29d1e948dd8>"
      ]
     },
     "execution_count": 17,
     "metadata": {},
     "output_type": "execute_result"
    },
    {
     "data": {
      "image/png": "[encoded data removed]",
      "text/plain": [
       "<Figure size 1080x720 with 2 Axes>"
      ]
     },
     "metadata": {},
     "output_type": "display_data"
    }
   ],
   "source": [
    "plt.figure(figsize=(15,10))\n",
    "sns.heatmap(attrition.corr(),cmap=\"Greens\")"
   ]
  },
  {
   "cell_type": "markdown",
   "metadata": {},
   "source": [
    "##### By looking at the matrix, we can see that all the features has less significance towards the target feature\n",
    "\n",
    "* The Feature \"TotalWorkingYears\" is highly correlated to \"Job Level\" (Long years we work, we will get high job level)\n",
    "\n",
    "\n",
    "* Age is correlated to \"JobLevel\" and \"Education\" (As the age increases, our grade and Education level also increases)"
   ]
  },
  {
   "cell_type": "code",
   "execution_count": 18,
   "metadata": {},
   "outputs": [
    {
     "data": {
      "text/plain": [
       "Index(['Attrition', 'BusinessTravel', 'Department', 'EducationField', 'Gender',\n",
       "       'JobRole', 'MaritalStatus', 'Over18', 'OverTime'],\n",
       "      dtype='object')"
      ]
     },
     "execution_count": 18,
     "metadata": {},
     "output_type": "execute_result"
    }
   ],
   "source": [
    "# Let's convert the datatype of converted numerical columns to category\n",
    "\n",
    "for k in df_categorical.columns:\n",
    "    attrition[k]=attrition[k].astype(\"category\")\n",
    "\n",
    "attrition.select_dtypes(include=\"category\").columns"
   ]
  },
  {
   "cell_type": "markdown",
   "metadata": {},
   "source": [
    "#### Let's check the Attrition rate with some features"
   ]
  },
  {
   "cell_type": "code",
   "execution_count": 19,
   "metadata": {},
   "outputs": [
    {
     "data": {
      "text/plain": [
       "<matplotlib.axes._subplots.AxesSubplot at 0x29d1eabffd0>"
      ]
     },
     "execution_count": 19,
     "metadata": {},
     "output_type": "execute_result"
    },
    {
     "data": {
      "image/png": "[encoded data removed]",
      "text/plain": [
       "<Figure size 432x288 with 1 Axes>"
      ]
     },
     "metadata": {},
     "output_type": "display_data"
    }
   ],
   "source": [
    "# Attrition vs Gender\n",
    "\n",
    "sns.countplot(x=\"Attrition\",data=attrition,hue=\"Gender\")\n",
    "\n",
    "# Gender : 0 - Female ; 1- Male\n",
    "\n",
    "# Attrition : 0 - No ; 1- Yes"
   ]
  },
  {
   "cell_type": "markdown",
   "metadata": {},
   "source": [
    "###### By the count plot, we can see the Attrition rate is high for males when compared to females and most of the employees are not changing the company."
   ]
  },
  {
   "cell_type": "code",
   "execution_count": 20,
   "metadata": {},
   "outputs": [
    {
     "data": {
      "text/plain": [
       "<matplotlib.axes._subplots.AxesSubplot at 0x29d1eb327b8>"
      ]
     },
     "execution_count": 20,
     "metadata": {},
     "output_type": "execute_result"
    },
    {
     "data": {
      "image/png": "[encoded data removed]",
      "text/plain": [
       "<Figure size 432x288 with 1 Axes>"
      ]
     },
     "metadata": {},
     "output_type": "display_data"
    }
   ],
   "source": [
    "# Attrition vs MaritalStatus\n",
    "sns.countplot(x=\"Attrition\",data=attrition,hue=\"MaritalStatus\")\n",
    "\n",
    "# 'MaritalStatus': [('Divorced', 0), ('Married', 1), ('Single', 2)]\n",
    "\n",
    "# Attrition : 0 - No ; 1- Yes"
   ]
  },
  {
   "cell_type": "markdown",
   "metadata": {},
   "source": [
    "###### By the above plot, we can infer that Employees who are Single tends to change the company than the others and Married employees tends to stay in the company itself."
   ]
  },
  {
   "cell_type": "code",
   "execution_count": 21,
   "metadata": {},
   "outputs": [
    {
     "data": {
      "text/plain": [
       "<matplotlib.axes._subplots.AxesSubplot at 0x29d1eb595f8>"
      ]
     },
     "execution_count": 21,
     "metadata": {},
     "output_type": "execute_result"
    },
    {
     "data": {
      "image/png": "[encoded data removed]",
      "text/plain": [
       "<Figure size 432x288 with 1 Axes>"
      ]
     },
     "metadata": {},
     "output_type": "display_data"
    }
   ],
   "source": [
    "# Attrition vs Department\n",
    "sns.countplot(x=\"Attrition\",data=attrition,hue=\"Department\")\n",
    "\n",
    "# 'Department': [('Human Resources', 0),('Research & Development', 1),('Sales', 2)]\n",
    "\n",
    "# Attrition : 0 - No ; 1- Yes"
   ]
  },
  {
   "cell_type": "markdown",
   "metadata": {},
   "source": [
    "###### By the above plot, we can infer that  the ratio between Employees in R&D dept not trying to change the company and trying to change the company is Large. So, the probability of Employees from R&D department will try to change the company is very less.."
   ]
  },
  {
   "cell_type": "markdown",
   "metadata": {},
   "source": [
    " "
   ]
  },
  {
   "cell_type": "markdown",
   "metadata": {},
   "source": [
    "## Unsupervised Learning"
   ]
  },
  {
   "cell_type": "markdown",
   "metadata": {},
   "source": [
    "#### Let's separate only the Indpendent features for UNSUPERVISED LEARNING"
   ]
  },
  {
   "cell_type": "code",
   "execution_count": 22,
   "metadata": {},
   "outputs": [],
   "source": [
    "X = attrition.drop([\"EmployeeCount\",\"StandardHours\",\"Over18\",\"EmployeeNumber\",\"Attrition\"],axis=1)\n",
    "\n",
    "Y = attrition[\"Attrition\"]"
   ]
  },
  {
   "cell_type": "markdown",
   "metadata": {},
   "source": [
    "#### Find the new \"Y\" (Target) and accuracy scores with K-Means Clustering:"
   ]
  },
  {
   "cell_type": "code",
   "execution_count": 23,
   "metadata": {},
   "outputs": [
    {
     "data": {
      "image/png": "[encoded data removed]",
      "text/plain": [
       "<Figure size 432x288 with 1 Axes>"
      ]
     },
     "metadata": {},
     "output_type": "display_data"
    }
   ],
   "source": [
    "# Kmeans iteration 1 till 20 cluster size\n",
    "\n",
    "cluster_errors = []\n",
    "\n",
    "for i in range(1,21):\n",
    "    clusters = KMeans(i)\n",
    "    clusters.fit(X)\n",
    "    cluster_errors.append(clusters.inertia_)\n",
    "    \n",
    "\n",
    "# WSS values\n",
    "\n",
    "clusters_df = pd.DataFrame({\"Num_clusters\":range(1,21),\"cluster_errors\":cluster_errors})\n",
    "\n",
    "# WSS values vs Number of Clusters (Elbow graph)\n",
    "\n",
    "sns.pointplot(x=clusters_df.Num_clusters,y=clusters_df.cluster_errors,data=clusters_df)\n",
    "plt.show()"
   ]
  },
  {
   "cell_type": "markdown",
   "metadata": {},
   "source": [
    "###### For Unscaled data , By the Elbow graph, we can see that the numeber of clusters can be of either 2 or three. We can consider 2 as cluster size approximately."
   ]
  },
  {
   "cell_type": "code",
   "execution_count": 24,
   "metadata": {},
   "outputs": [
    {
     "data": {
      "text/plain": [
       "0.5081632653061224"
      ]
     },
     "execution_count": 24,
     "metadata": {},
     "output_type": "execute_result"
    }
   ],
   "source": [
    "# Fit the data and check the accuracy score\n",
    "\n",
    "kmean = KMeans(n_clusters=2).fit(X)\n",
    "\n",
    "y_kmean = list(kmean.labels_)\n",
    "\n",
    "kmean_met = metrics.accuracy_score(Y,y_kmean)\n",
    "kmean_met"
   ]
  },
  {
   "cell_type": "markdown",
   "metadata": {},
   "source": [
    "#### Find the new \"Y\" (Target) and Accuracy score with Hierarchial Clustering :"
   ]
  },
  {
   "cell_type": "code",
   "execution_count": 25,
   "metadata": {},
   "outputs": [
    {
     "data": {
      "text/plain": [
       "0.5585034013605442"
      ]
     },
     "execution_count": 25,
     "metadata": {},
     "output_type": "execute_result"
    }
   ],
   "source": [
    "cluster = AgglomerativeClustering(n_clusters = 2, linkage=\"ward\")\n",
    "\n",
    "y_hier = list(cluster.fit_predict(X))\n",
    "\n",
    "hier_met = metrics.accuracy_score(Y,y_hier)\n",
    "hier_met "
   ]
  },
  {
   "cell_type": "markdown",
   "metadata": {},
   "source": [
    "#### Comaparing the accuracy between K-Means and Hierarchial Clustering :"
   ]
  },
  {
   "cell_type": "code",
   "execution_count": 26,
   "metadata": {},
   "outputs": [
    {
     "data": {
      "text/html": [
       "<div>\n",
       "<style scoped>\n",
       "    .dataframe tbody tr th:only-of-type {\n",
       "        vertical-align: middle;\n",
       "    }\n",
       "\n",
       "    .dataframe tbody tr th {\n",
       "        vertical-align: top;\n",
       "    }\n",
       "\n",
       "    .dataframe thead th {\n",
       "        text-align: right;\n",
       "    }\n",
       "</style>\n",
       "<table border=\"1\" class=\"dataframe\">\n",
       "  <thead>\n",
       "    <tr style=\"text-align: right;\">\n",
       "      <th></th>\n",
       "      <th>Accuracy_Scores</th>\n",
       "    </tr>\n",
       "  </thead>\n",
       "  <tbody>\n",
       "    <tr>\n",
       "      <th>Agglomerative_cluster</th>\n",
       "      <td>0.558503</td>\n",
       "    </tr>\n",
       "    <tr>\n",
       "      <th>kmean_cluster</th>\n",
       "      <td>0.508163</td>\n",
       "    </tr>\n",
       "  </tbody>\n",
       "</table>\n",
       "</div>"
      ],
      "text/plain": [
       "                       Accuracy_Scores\n",
       "Agglomerative_cluster         0.558503\n",
       "kmean_cluster                 0.508163"
      ]
     },
     "execution_count": 26,
     "metadata": {},
     "output_type": "execute_result"
    }
   ],
   "source": [
    "compr = pd.DataFrame({\"Accuracy_Scores\":[kmean_met,hier_met]},index=[\"kmean_cluster\",\"Agglomerative_cluster\"])\n",
    "compr.sort_values(by=\"Accuracy_Scores\",ascending=False)"
   ]
  },
  {
   "cell_type": "markdown",
   "metadata": {},
   "source": [
    "###### By the above comparison we can see that, Hierarchial clustering prediction gives better accuracy than the K-Means clustering. Hence, we can proceed with the new \"Target\" variable as we got in Hierarchial clustering."
   ]
  },
  {
   "cell_type": "markdown",
   "metadata": {},
   "source": [
    "### Unsupervised Learning-PCA without Scaling"
   ]
  },
  {
   "cell_type": "code",
   "execution_count": 27,
   "metadata": {},
   "outputs": [],
   "source": [
    "# Splitting the dataset into the Training set and Test set\n",
    "from sklearn.model_selection import train_test_split\n",
    "\n",
    "X_train, X_test, y_train, y_test = train_test_split(X,y_hier,test_size=0.3, random_state=0)  "
   ]
  },
  {
   "cell_type": "code",
   "execution_count": 28,
   "metadata": {},
   "outputs": [],
   "source": [
    "#PCA for all the features\n",
    "\n",
    "pca = PCA()  \n",
    "X_train = pca.fit_transform(X_train)  \n",
    "X_test = pca.transform(X_test)  "
   ]
  },
  {
   "cell_type": "code",
   "execution_count": 29,
   "metadata": {},
   "outputs": [
    {
     "name": "stdout",
     "output_type": "stream",
     "text": [
      "Loading Scores are:\n",
      " [7.22954023e-01 2.74683849e-01 2.35269096e-03 5.93252867e-06\n",
      " 1.05664003e-06 9.25776718e-07 6.49782853e-07 1.91686639e-07\n",
      " 1.64352090e-07 8.79117151e-08 8.47392017e-08 7.26999146e-08\n",
      " 5.80551352e-08 5.29244784e-08 2.63719793e-08 2.13296116e-08\n",
      " 1.73822405e-08 1.67813351e-08 1.57380391e-08 1.44285849e-08\n",
      " 1.33184726e-08 7.32789904e-09 6.96649992e-09 6.22157201e-09\n",
      " 3.34249644e-09 2.83207144e-09 2.70281335e-09 2.30471303e-09\n",
      " 1.47281158e-09 7.25267978e-10]\n"
     ]
    }
   ],
   "source": [
    "# Loading Score\n",
    "print(\"Loading Scores are:\\n\",pca.explained_variance_ratio_ )"
   ]
  },
  {
   "cell_type": "code",
   "execution_count": 30,
   "metadata": {},
   "outputs": [
    {
     "data": {
      "image/png": "[encoded data removed]",
      "text/plain": [
       "<Figure size 720x216 with 1 Axes>"
      ]
     },
     "metadata": {},
     "output_type": "display_data"
    }
   ],
   "source": [
    "#Explained variance vs Number of components plot\n",
    "\n",
    "plt.figure(figsize=(10,3))\n",
    "plt.plot(pca.explained_variance_ratio_,marker=\"o\",c=\"r\")\n",
    "plt.xlabel('number of components')\n",
    "plt.ylabel('cumulative explained variance')\n",
    "plt.xticks(range(30))\n",
    "plt.show()"
   ]
  },
  {
   "cell_type": "markdown",
   "metadata": {},
   "source": [
    "#### By the above graph, we can approximately consider upto PC2 components"
   ]
  },
  {
   "cell_type": "markdown",
   "metadata": {},
   "source": [
    "### Train and test the models"
   ]
  },
  {
   "cell_type": "code",
   "execution_count": 31,
   "metadata": {},
   "outputs": [
    {
     "name": "stdout",
     "output_type": "stream",
     "text": [
      "Accuracy for y_random_met:\n",
      " 0.9342403628117913\n"
     ]
    }
   ],
   "source": [
    "# Random Forest model\n",
    "random_us = RandomForestClassifier()  \n",
    "random_us.fit(X_train, y_train)\n",
    "\n",
    "y_random_unscaled = random_us.predict(X_test) \n",
    "y_random_met=metrics.accuracy_score(y_test,y_random_unscaled)\n",
    "\n",
    "print(\"Accuracy for y_random_met:\\n\",y_random_met)"
   ]
  },
  {
   "cell_type": "code",
   "execution_count": 32,
   "metadata": {},
   "outputs": [
    {
     "name": "stdout",
     "output_type": "stream",
     "text": [
      "Accuracy for y_log_model_met:\n",
      " 0.9160997732426304\n"
     ]
    }
   ],
   "source": [
    "# Logistic Regression model\n",
    "\n",
    "log_model_us = LogisticRegression()  \n",
    "log_model_us.fit(X_train, y_train)\n",
    "\n",
    "log_model_unscaled = log_model_us.predict(X_test) \n",
    "y_log_model_met=metrics.accuracy_score(y_test,log_model_unscaled)\n",
    "\n",
    "print(\"Accuracy for y_log_model_met:\\n\",y_log_model_met)"
   ]
  },
  {
   "cell_type": "code",
   "execution_count": 33,
   "metadata": {},
   "outputs": [
    {
     "name": "stdout",
     "output_type": "stream",
     "text": [
      "Accuracy for tree_model_met:\n",
      " 0.9727891156462585\n"
     ]
    }
   ],
   "source": [
    "# Decision Tree model\n",
    "\n",
    "tree_model_us = DecisionTreeClassifier()  \n",
    "tree_model_us.fit(X_train, y_train)\n",
    "\n",
    "tree_model_unscaled = tree_model_us.predict(X_test) \n",
    "tree_model_met=metrics.accuracy_score(y_test,tree_model_unscaled)\n",
    "\n",
    "print(\"Accuracy for tree_model_met:\\n\",tree_model_met)"
   ]
  },
  {
   "cell_type": "code",
   "execution_count": 34,
   "metadata": {},
   "outputs": [
    {
     "name": "stdout",
     "output_type": "stream",
     "text": [
      "Accuracy for KNN_model_met:\n",
      " 0.9909297052154195\n"
     ]
    }
   ],
   "source": [
    "# KNN model\n",
    "\n",
    "KNN_model_us = KNeighborsClassifier()  \n",
    "KNN_model_us.fit(X_train, y_train)\n",
    "\n",
    "KNN_model_unscaled = KNN_model_us.predict(X_test) \n",
    "KNN_model_met=metrics.accuracy_score(y_test,KNN_model_unscaled)\n",
    "\n",
    "print(\"Accuracy for KNN_model_met:\\n\",KNN_model_met)"
   ]
  },
  {
   "cell_type": "code",
   "execution_count": 35,
   "metadata": {},
   "outputs": [
    {
     "name": "stdout",
     "output_type": "stream",
     "text": [
      "Accuracy for Naive_model_met:\n",
      " 0.9478458049886621\n"
     ]
    }
   ],
   "source": [
    "# Naive model\n",
    "\n",
    "Naive_model_us = GaussianNB()  \n",
    "Naive_model_us.fit(X_train, y_train)\n",
    "\n",
    "Naive_model_unscaled = Naive_model_us.predict(X_test) \n",
    "Naive_model_met=metrics.accuracy_score(y_test,Naive_model_unscaled)\n",
    "\n",
    "print(\"Accuracy for Naive_model_met:\\n\",Naive_model_met)"
   ]
  },
  {
   "cell_type": "code",
   "execution_count": 36,
   "metadata": {},
   "outputs": [
    {
     "name": "stdout",
     "output_type": "stream",
     "text": [
      "Accuracy for SVM_model_met:\n",
      " 0.564625850340136\n"
     ]
    }
   ],
   "source": [
    "# SVM model\n",
    "\n",
    "SVM_model_us = SVC()  \n",
    "SVM_model_us.fit(X_train, y_train)\n",
    "\n",
    "SVM_model_unscaled = SVM_model_us.predict(X_test) \n",
    "SVM_model_met=metrics.accuracy_score(y_test,SVM_model_unscaled)\n",
    "\n",
    "print(\"Accuracy for SVM_model_met:\\n\",SVM_model_met)"
   ]
  },
  {
   "cell_type": "code",
   "execution_count": 37,
   "metadata": {},
   "outputs": [
    {
     "data": {
      "text/html": [
       "<div>\n",
       "<style scoped>\n",
       "    .dataframe tbody tr th:only-of-type {\n",
       "        vertical-align: middle;\n",
       "    }\n",
       "\n",
       "    .dataframe tbody tr th {\n",
       "        vertical-align: top;\n",
       "    }\n",
       "\n",
       "    .dataframe thead th {\n",
       "        text-align: right;\n",
       "    }\n",
       "</style>\n",
       "<table border=\"1\" class=\"dataframe\">\n",
       "  <thead>\n",
       "    <tr style=\"text-align: right;\">\n",
       "      <th></th>\n",
       "      <th>Accuracy_Scores_Unscaled_USL</th>\n",
       "    </tr>\n",
       "  </thead>\n",
       "  <tbody>\n",
       "    <tr>\n",
       "      <th>KNN_model_met</th>\n",
       "      <td>0.990930</td>\n",
       "    </tr>\n",
       "    <tr>\n",
       "      <th>Tree_model_met</th>\n",
       "      <td>0.972789</td>\n",
       "    </tr>\n",
       "    <tr>\n",
       "      <th>Naive_model_met</th>\n",
       "      <td>0.947846</td>\n",
       "    </tr>\n",
       "    <tr>\n",
       "      <th>Random_met</th>\n",
       "      <td>0.934240</td>\n",
       "    </tr>\n",
       "    <tr>\n",
       "      <th>Log_model_met</th>\n",
       "      <td>0.916100</td>\n",
       "    </tr>\n",
       "    <tr>\n",
       "      <th>SVM_model_met</th>\n",
       "      <td>0.564626</td>\n",
       "    </tr>\n",
       "  </tbody>\n",
       "</table>\n",
       "</div>"
      ],
      "text/plain": [
       "                 Accuracy_Scores_Unscaled_USL\n",
       "KNN_model_met                        0.990930\n",
       "Tree_model_met                       0.972789\n",
       "Naive_model_met                      0.947846\n",
       "Random_met                           0.934240\n",
       "Log_model_met                        0.916100\n",
       "SVM_model_met                        0.564626"
      ]
     },
     "execution_count": 37,
     "metadata": {},
     "output_type": "execute_result"
    }
   ],
   "source": [
    "Accuracy_Scores_2=pd.DataFrame([y_random_met,y_log_model_met,tree_model_met,\n",
    "                                     KNN_model_met,Naive_model_met,SVM_model_met],columns=[\"Accuracy_Scores_Unscaled_USL\"]\n",
    "                               ,index= [\"Random_met\",\"Log_model_met\",\"Tree_model_met\",\n",
    "                                     \"KNN_model_met\",\"Naive_model_met\",\"SVM_model_met\"])\n",
    "\n",
    "Accuracy_Scores_2.sort_values(by=\"Accuracy_Scores_Unscaled_USL\",ascending=False)"
   ]
  },
  {
   "cell_type": "markdown",
   "metadata": {},
   "source": [
    "##### By looking the above dataframe, we can see that KNN performs better than other models in unscaled data.."
   ]
  },
  {
   "cell_type": "markdown",
   "metadata": {},
   "source": [
    " "
   ]
  },
  {
   "cell_type": "markdown",
   "metadata": {},
   "source": [
    "### Unsupervised Learning-PCA with Scaling"
   ]
  },
  {
   "cell_type": "code",
   "execution_count": 38,
   "metadata": {},
   "outputs": [],
   "source": [
    "# Splitting the dataset into the Training set and Test set\n",
    "from sklearn.model_selection import train_test_split\n",
    "\n",
    "X_std = preprocessing.StandardScaler().fit_transform(X)\n",
    "\n",
    "X_train1, X_test1, y_train1, y_test1 = train_test_split(X_std,y_hier,test_size=0.3, random_state=0)  \n"
   ]
  },
  {
   "cell_type": "code",
   "execution_count": 39,
   "metadata": {},
   "outputs": [
    {
     "name": "stdout",
     "output_type": "stream",
     "text": [
      "Loading Scores are:\n",
      " [0.15805916 0.06397741 0.06211961 0.0564789  0.05140754 0.03995689\n",
      " 0.03977098 0.03895749 0.0363926  0.03544472 0.03377148 0.03315486\n",
      " 0.03249319 0.03168924 0.0311941  0.03046942 0.03013646 0.02919057\n",
      " 0.02793495 0.02696339 0.02389566 0.01788897 0.01662695 0.0108773\n",
      " 0.01070111 0.00997773 0.00743695 0.00687017 0.00442217 0.00174003]\n"
     ]
    }
   ],
   "source": [
    "#PCA for all the features\n",
    "\n",
    "pca2 = PCA()  \n",
    "X_train1 = pca2.fit_transform(X_train1)  \n",
    "X_test2 = pca2.transform(X_test1)  \n",
    "\n",
    "# Loading Score\n",
    "print(\"Loading Scores are:\\n\",pca2.explained_variance_ratio_ )\n"
   ]
  },
  {
   "cell_type": "code",
   "execution_count": 40,
   "metadata": {},
   "outputs": [
    {
     "data": {
      "image/png": "[encoded data removed]",
      "text/plain": [
       "<Figure size 720x216 with 1 Axes>"
      ]
     },
     "metadata": {},
     "output_type": "display_data"
    }
   ],
   "source": [
    "#Explained variance vs Number of components plot\n",
    "\n",
    "plt.figure(figsize=(10,3))\n",
    "plt.plot(pca2.explained_variance_ratio_,marker=\"o\",c=\"r\")\n",
    "plt.xlabel('number of components')\n",
    "plt.ylabel('cumulative explained variance')\n",
    "plt.xticks(range(30))\n",
    "plt.show()\n"
   ]
  },
  {
   "cell_type": "markdown",
   "metadata": {},
   "source": [
    "#### By the above graph, we can approximately consider upto PC2 components"
   ]
  },
  {
   "cell_type": "markdown",
   "metadata": {},
   "source": [
    "### Train and test the models\n"
   ]
  },
  {
   "cell_type": "code",
   "execution_count": 41,
   "metadata": {},
   "outputs": [
    {
     "name": "stdout",
     "output_type": "stream",
     "text": [
      "Accuracy for y_random_scaled_met:\n",
      " 0.46938775510204084\n"
     ]
    }
   ],
   "source": [
    "# Random Forest model\n",
    "random_sv = RandomForestClassifier()  \n",
    "random_sv.fit(X_train1, y_train1)\n",
    "\n",
    "y_random_scaled = random_sv.predict(X_test1) \n",
    "y_random_scaled_met=metrics.accuracy_score(y_test1,y_random_scaled)\n",
    "\n",
    "print(\"Accuracy for y_random_scaled_met:\\n\",y_random_scaled_met)"
   ]
  },
  {
   "cell_type": "code",
   "execution_count": 42,
   "metadata": {},
   "outputs": [
    {
     "name": "stdout",
     "output_type": "stream",
     "text": [
      "Accuracy for y_log_model_scaled_met:\n",
      " 0.38095238095238093\n"
     ]
    }
   ],
   "source": [
    "# Logistic Regression model\n",
    "\n",
    "log_model_sv = LogisticRegression()  \n",
    "log_model_sv.fit(X_train1, y_train1)\n",
    "\n",
    "log_model_scaled = log_model_sv.predict(X_test1) \n",
    "y_log_model_scaled_met=metrics.accuracy_score(y_test1,log_model_scaled)\n",
    "\n",
    "print(\"Accuracy for y_log_model_scaled_met:\\n\",y_log_model_scaled_met)\n"
   ]
  },
  {
   "cell_type": "code",
   "execution_count": 43,
   "metadata": {},
   "outputs": [
    {
     "name": "stdout",
     "output_type": "stream",
     "text": [
      "Accuracy for tree_model_scaled_met:\n",
      " 0.48072562358276644\n"
     ]
    }
   ],
   "source": [
    "# Decision Tree model\n",
    "\n",
    "tree_model_sv = DecisionTreeClassifier()  \n",
    "tree_model_sv.fit(X_train1, y_train1)\n",
    "\n",
    "tree_model_scaled = tree_model_sv.predict(X_test1) \n",
    "tree_model_scaled_met=metrics.accuracy_score(y_test1,tree_model_scaled)\n",
    "\n",
    "print(\"Accuracy for tree_model_scaled_met:\\n\",tree_model_scaled_met)"
   ]
  },
  {
   "cell_type": "code",
   "execution_count": 44,
   "metadata": {},
   "outputs": [
    {
     "name": "stdout",
     "output_type": "stream",
     "text": [
      "Accuracy for KNN_model_scaled_met:\n",
      " 0.4671201814058957\n"
     ]
    }
   ],
   "source": [
    "# KNN model\n",
    "\n",
    "KNN_model_sv = KNeighborsClassifier()  \n",
    "KNN_model_sv.fit(X_train1, y_train1)\n",
    "\n",
    "KNN_model_scaled = KNN_model_sv.predict(X_test1) \n",
    "KNN_model_scaled_met=metrics.accuracy_score(y_test1,KNN_model_scaled)\n",
    "\n",
    "print(\"Accuracy for KNN_model_scaled_met:\\n\",KNN_model_scaled_met)\n"
   ]
  },
  {
   "cell_type": "code",
   "execution_count": 45,
   "metadata": {},
   "outputs": [
    {
     "name": "stdout",
     "output_type": "stream",
     "text": [
      "Accuracy for Naive_model_scaled_met:\n",
      " 0.38095238095238093\n"
     ]
    }
   ],
   "source": [
    "# Naive model\n",
    "\n",
    "Naive_model_sv = GaussianNB()  \n",
    "Naive_model_sv.fit(X_train1, y_train1)\n",
    "\n",
    "Naive_model_scaled = Naive_model_sv.predict(X_test1) \n",
    "Naive_model_scaled_met=metrics.accuracy_score(y_test1,Naive_model_scaled)\n",
    "\n",
    "print(\"Accuracy for Naive_model_scaled_met:\\n\",Naive_model_scaled_met)\n"
   ]
  },
  {
   "cell_type": "code",
   "execution_count": 46,
   "metadata": {},
   "outputs": [
    {
     "name": "stdout",
     "output_type": "stream",
     "text": [
      "Accuracy for SVM_model_scaled_met:\n",
      " 0.3922902494331066\n"
     ]
    }
   ],
   "source": [
    "# SVM model\n",
    "\n",
    "SVM_model_sv = SVC()  \n",
    "SVM_model_sv.fit(X_train1, y_train1)\n",
    "\n",
    "SVM_model_scaled = SVM_model_sv.predict(X_test1) \n",
    "SVM_model_scaled_met=metrics.accuracy_score(y_test1,SVM_model_scaled)\n",
    "\n",
    "print(\"Accuracy for SVM_model_scaled_met:\\n\",SVM_model_scaled_met)\n"
   ]
  },
  {
   "cell_type": "code",
   "execution_count": 47,
   "metadata": {},
   "outputs": [
    {
     "data": {
      "text/html": [
       "<div>\n",
       "<style scoped>\n",
       "    .dataframe tbody tr th:only-of-type {\n",
       "        vertical-align: middle;\n",
       "    }\n",
       "\n",
       "    .dataframe tbody tr th {\n",
       "        vertical-align: top;\n",
       "    }\n",
       "\n",
       "    .dataframe thead th {\n",
       "        text-align: right;\n",
       "    }\n",
       "</style>\n",
       "<table border=\"1\" class=\"dataframe\">\n",
       "  <thead>\n",
       "    <tr style=\"text-align: right;\">\n",
       "      <th></th>\n",
       "      <th>Accuracy_Scores_scaled_USL</th>\n",
       "    </tr>\n",
       "  </thead>\n",
       "  <tbody>\n",
       "    <tr>\n",
       "      <th>Tree_model_scaled_met</th>\n",
       "      <td>0.480726</td>\n",
       "    </tr>\n",
       "    <tr>\n",
       "      <th>Random_scaled_met</th>\n",
       "      <td>0.469388</td>\n",
       "    </tr>\n",
       "    <tr>\n",
       "      <th>KNN_model_scaled_met</th>\n",
       "      <td>0.467120</td>\n",
       "    </tr>\n",
       "    <tr>\n",
       "      <th>SVM_model_scaled_met</th>\n",
       "      <td>0.392290</td>\n",
       "    </tr>\n",
       "    <tr>\n",
       "      <th>Log_model_scaled_met</th>\n",
       "      <td>0.380952</td>\n",
       "    </tr>\n",
       "    <tr>\n",
       "      <th>Naive_model_scaled_met</th>\n",
       "      <td>0.380952</td>\n",
       "    </tr>\n",
       "  </tbody>\n",
       "</table>\n",
       "</div>"
      ],
      "text/plain": [
       "                        Accuracy_Scores_scaled_USL\n",
       "Tree_model_scaled_met                     0.480726\n",
       "Random_scaled_met                         0.469388\n",
       "KNN_model_scaled_met                      0.467120\n",
       "SVM_model_scaled_met                      0.392290\n",
       "Log_model_scaled_met                      0.380952\n",
       "Naive_model_scaled_met                    0.380952"
      ]
     },
     "execution_count": 47,
     "metadata": {},
     "output_type": "execute_result"
    }
   ],
   "source": [
    "Accuracy_Scores_3=pd.DataFrame([y_random_scaled_met,y_log_model_scaled_met,tree_model_scaled_met,\n",
    "                                     KNN_model_scaled_met,Naive_model_scaled_met,SVM_model_scaled_met],columns=[\"Accuracy_Scores_scaled_USL\"]\n",
    "                               ,index= [\"Random_scaled_met\",\"Log_model_scaled_met\",\"Tree_model_scaled_met\",\n",
    "                                     \"KNN_model_scaled_met\",\"Naive_model_scaled_met\",\"SVM_model_scaled_met\"])\n",
    "\n",
    "Accuracy_Scores_3.sort_values(by=\"Accuracy_Scores_scaled_USL\",ascending=False)\n"
   ]
  },
  {
   "cell_type": "markdown",
   "metadata": {},
   "source": [
    "# Supervised Learning"
   ]
  },
  {
   "cell_type": "code",
   "execution_count": 48,
   "metadata": {},
   "outputs": [],
   "source": [
    "# Splitting the dataset into the Training set and Test set\n",
    "from sklearn.model_selection import train_test_split\n",
    "\n",
    "X_train2, X_test2, y_train2, y_test2 = train_test_split(X,Y,test_size=0.3, random_state=0)  \n"
   ]
  },
  {
   "cell_type": "markdown",
   "metadata": {},
   "source": [
    "### Train and test the models\n"
   ]
  },
  {
   "cell_type": "code",
   "execution_count": 49,
   "metadata": {},
   "outputs": [
    {
     "name": "stdout",
     "output_type": "stream",
     "text": [
      "Accuracy for y_random_sup_met:\n",
      " 0.8480725623582767\n"
     ]
    }
   ],
   "source": [
    "# Random Forest model\n",
    "random_sup = RandomForestClassifier()  \n",
    "random_sup.fit(X_train2, y_train2)\n",
    "\n",
    "y_random_sup = random_sup.predict(X_test2) \n",
    "y_random_sup_met=metrics.accuracy_score(y_test2,y_random_sup)\n",
    "\n",
    "print(\"Accuracy for y_random_sup_met:\\n\",y_random_sup_met)"
   ]
  },
  {
   "cell_type": "code",
   "execution_count": 50,
   "metadata": {},
   "outputs": [
    {
     "name": "stdout",
     "output_type": "stream",
     "text": [
      "Accuracy for y_log_model_sup_met:\n",
      " 0.873015873015873\n"
     ]
    }
   ],
   "source": [
    "# Logistic Regression model\n",
    "\n",
    "log_model_sup = LogisticRegression()  \n",
    "log_model_sup.fit(X_train2, y_train2)\n",
    "\n",
    "y_log_model_sup = log_model_sup.predict(X_test2) \n",
    "y_log_model_sup_met=metrics.accuracy_score(y_test2,y_log_model_sup)\n",
    "\n",
    "print(\"Accuracy for y_log_model_sup_met:\\n\",y_log_model_sup_met)"
   ]
  },
  {
   "cell_type": "code",
   "execution_count": 51,
   "metadata": {},
   "outputs": [
    {
     "name": "stdout",
     "output_type": "stream",
     "text": [
      "Accuracy for tree_model_scaled_met:\n",
      " 0.7755102040816326\n"
     ]
    }
   ],
   "source": [
    "# Decision tree model\n",
    "\n",
    "tree_model_sup = DecisionTreeClassifier()  \n",
    "tree_model_sup.fit(X_train2, y_train2)\n",
    "\n",
    "y_tree_model_sup = tree_model_sup.predict(X_test2) \n",
    "y_tree_model_sup_met=metrics.accuracy_score(y_test2,y_tree_model_sup)\n",
    "\n",
    "print(\"Accuracy for tree_model_scaled_met:\\n\",y_tree_model_sup_met)"
   ]
  },
  {
   "cell_type": "code",
   "execution_count": 52,
   "metadata": {},
   "outputs": [
    {
     "name": "stdout",
     "output_type": "stream",
     "text": [
      "Accuracy for KNN_model_scaled_met:\n",
      " 0.8163265306122449\n"
     ]
    }
   ],
   "source": [
    "# KNN model\n",
    "\n",
    "KNN_model_sup = KNeighborsClassifier()  \n",
    "KNN_model_sup.fit(X_train2, y_train2)\n",
    "\n",
    "y_KNN_model_sup = KNN_model_sup.predict(X_test2) \n",
    "y_KNN_model_sup_met=metrics.accuracy_score(y_test2,y_KNN_model_sup)\n",
    "\n",
    "print(\"Accuracy for KNN_model_scaled_met:\\n\",y_KNN_model_sup_met)\n",
    "\n"
   ]
  },
  {
   "cell_type": "code",
   "execution_count": 53,
   "metadata": {},
   "outputs": [
    {
     "name": "stdout",
     "output_type": "stream",
     "text": [
      "Accuracy for Naives_model_scaled_met:\n",
      " 0.7981859410430839\n"
     ]
    }
   ],
   "source": [
    "# Naives model\n",
    "\n",
    "Naives_model_sup = GaussianNB()  \n",
    "Naives_model_sup.fit(X_train2, y_train2)\n",
    "\n",
    "y_Naives_model_sup = Naives_model_sup.predict(X_test2) \n",
    "y_Naives_model_sup_met=metrics.accuracy_score(y_test2,y_Naives_model_sup)\n",
    "\n",
    "print(\"Accuracy for Naives_model_scaled_met:\\n\",y_Naives_model_sup_met)\n"
   ]
  },
  {
   "cell_type": "code",
   "execution_count": 54,
   "metadata": {},
   "outputs": [
    {
     "name": "stdout",
     "output_type": "stream",
     "text": [
      "Accuracy for SVM_model_scaled_met:\n",
      " 0.8412698412698413\n"
     ]
    }
   ],
   "source": [
    "# SVM model\n",
    "\n",
    "SVM_model_sup = SVC()  \n",
    "SVM_model_sup.fit(X_train2, y_train2)\n",
    "\n",
    "y_SVM_model_sup = SVM_model_sup.predict(X_test2) \n",
    "y_SVM_model_sup_met=metrics.accuracy_score(y_test2,y_SVM_model_sup)\n",
    "\n",
    "print(\"Accuracy for SVM_model_scaled_met:\\n\",y_SVM_model_sup_met)"
   ]
  },
  {
   "cell_type": "code",
   "execution_count": 55,
   "metadata": {},
   "outputs": [
    {
     "data": {
      "text/html": [
       "<div>\n",
       "<style scoped>\n",
       "    .dataframe tbody tr th:only-of-type {\n",
       "        vertical-align: middle;\n",
       "    }\n",
       "\n",
       "    .dataframe tbody tr th {\n",
       "        vertical-align: top;\n",
       "    }\n",
       "\n",
       "    .dataframe thead th {\n",
       "        text-align: right;\n",
       "    }\n",
       "</style>\n",
       "<table border=\"1\" class=\"dataframe\">\n",
       "  <thead>\n",
       "    <tr style=\"text-align: right;\">\n",
       "      <th></th>\n",
       "      <th>Accuracy_Scores_SL</th>\n",
       "    </tr>\n",
       "  </thead>\n",
       "  <tbody>\n",
       "    <tr>\n",
       "      <th>Log_model_sup_met</th>\n",
       "      <td>0.873016</td>\n",
       "    </tr>\n",
       "    <tr>\n",
       "      <th>Random_sup_met</th>\n",
       "      <td>0.848073</td>\n",
       "    </tr>\n",
       "    <tr>\n",
       "      <th>SVM_model_sup_met</th>\n",
       "      <td>0.841270</td>\n",
       "    </tr>\n",
       "    <tr>\n",
       "      <th>KNN_model_sup_met</th>\n",
       "      <td>0.816327</td>\n",
       "    </tr>\n",
       "    <tr>\n",
       "      <th>Naives_model_sup_met</th>\n",
       "      <td>0.798186</td>\n",
       "    </tr>\n",
       "    <tr>\n",
       "      <th>Tree_model_sup_met</th>\n",
       "      <td>0.775510</td>\n",
       "    </tr>\n",
       "  </tbody>\n",
       "</table>\n",
       "</div>"
      ],
      "text/plain": [
       "                      Accuracy_Scores_SL\n",
       "Log_model_sup_met               0.873016\n",
       "Random_sup_met                  0.848073\n",
       "SVM_model_sup_met               0.841270\n",
       "KNN_model_sup_met               0.816327\n",
       "Naives_model_sup_met            0.798186\n",
       "Tree_model_sup_met              0.775510"
      ]
     },
     "execution_count": 55,
     "metadata": {},
     "output_type": "execute_result"
    }
   ],
   "source": [
    "Accuracy_Scores_4=pd.DataFrame([y_random_sup_met,y_log_model_sup_met,y_tree_model_sup_met,\n",
    "                                     y_KNN_model_sup_met,y_Naives_model_sup_met,y_SVM_model_sup_met],columns=[\"Accuracy_Scores_SL\"]\n",
    "                               ,index= [\"Random_sup_met\",\"Log_model_sup_met\",\"Tree_model_sup_met\",\n",
    "                                     \"KNN_model_sup_met\",\"Naives_model_sup_met\",\"SVM_model_sup_met\"])\n",
    "Accuracy_Scores_4.sort_values(by=\"Accuracy_Scores_SL\",ascending=False)\n"
   ]
  },
  {
   "cell_type": "code",
   "execution_count": 56,
   "metadata": {},
   "outputs": [
    {
     "data": {
      "text/plain": [
       "Random_sup_met          0.848073\n",
       "Log_model_sup_met       0.873016\n",
       "Tree_model_sup_met      0.775510\n",
       "KNN_model_sup_met       0.816327\n",
       "Naives_model_sup_met    0.798186\n",
       "SVM_model_sup_met       0.841270\n",
       "Name: Accuracy_Scores_SL, dtype: float64"
      ]
     },
     "execution_count": 56,
     "metadata": {},
     "output_type": "execute_result"
    }
   ],
   "source": [
    "Accuracy_Scores_4[\"Accuracy_Scores_SL\"]"
   ]
  },
  {
   "cell_type": "markdown",
   "metadata": {},
   "source": [
    "##### By referring the above dataframe, For Supervised Learning, Random Forest model accuracy score is good when compared to other model scores"
   ]
  },
  {
   "cell_type": "markdown",
   "metadata": {},
   "source": [
    "## Models Comparision"
   ]
  },
  {
   "cell_type": "code",
   "execution_count": 57,
   "metadata": {},
   "outputs": [
    {
     "data": {
      "text/html": [
       "<div>\n",
       "<style scoped>\n",
       "    .dataframe tbody tr th:only-of-type {\n",
       "        vertical-align: middle;\n",
       "    }\n",
       "\n",
       "    .dataframe tbody tr th {\n",
       "        vertical-align: top;\n",
       "    }\n",
       "\n",
       "    .dataframe thead th {\n",
       "        text-align: right;\n",
       "    }\n",
       "</style>\n",
       "<table border=\"1\" class=\"dataframe\">\n",
       "  <thead>\n",
       "    <tr style=\"text-align: right;\">\n",
       "      <th></th>\n",
       "      <th>Unsupervised_PCA_Unscaled</th>\n",
       "      <th>Unsupervised_PCA_Scaled</th>\n",
       "      <th>Supervised_Unscaled</th>\n",
       "    </tr>\n",
       "  </thead>\n",
       "  <tbody>\n",
       "    <tr>\n",
       "      <th>Random_Model</th>\n",
       "      <td>0.934240</td>\n",
       "      <td>0.469388</td>\n",
       "      <td>0.848073</td>\n",
       "    </tr>\n",
       "    <tr>\n",
       "      <th>Log_Model</th>\n",
       "      <td>0.916100</td>\n",
       "      <td>0.380952</td>\n",
       "      <td>0.873016</td>\n",
       "    </tr>\n",
       "    <tr>\n",
       "      <th>Tree_Model</th>\n",
       "      <td>0.972789</td>\n",
       "      <td>0.480726</td>\n",
       "      <td>0.775510</td>\n",
       "    </tr>\n",
       "    <tr>\n",
       "      <th>KNN_Model</th>\n",
       "      <td>0.990930</td>\n",
       "      <td>0.467120</td>\n",
       "      <td>0.816327</td>\n",
       "    </tr>\n",
       "    <tr>\n",
       "      <th>Naive_Bayes_Model</th>\n",
       "      <td>0.947846</td>\n",
       "      <td>0.380952</td>\n",
       "      <td>0.798186</td>\n",
       "    </tr>\n",
       "    <tr>\n",
       "      <th>SVM_Model</th>\n",
       "      <td>0.564626</td>\n",
       "      <td>0.392290</td>\n",
       "      <td>0.841270</td>\n",
       "    </tr>\n",
       "  </tbody>\n",
       "</table>\n",
       "</div>"
      ],
      "text/plain": [
       "                   Unsupervised_PCA_Unscaled  Unsupervised_PCA_Scaled  \\\n",
       "Random_Model                        0.934240                 0.469388   \n",
       "Log_Model                           0.916100                 0.380952   \n",
       "Tree_Model                          0.972789                 0.480726   \n",
       "KNN_Model                           0.990930                 0.467120   \n",
       "Naive_Bayes_Model                   0.947846                 0.380952   \n",
       "SVM_Model                           0.564626                 0.392290   \n",
       "\n",
       "                   Supervised_Unscaled  \n",
       "Random_Model                  0.848073  \n",
       "Log_Model                     0.873016  \n",
       "Tree_Model                    0.775510  \n",
       "KNN_Model                     0.816327  \n",
       "Naive_Bayes_Model             0.798186  \n",
       "SVM_Model                     0.841270  "
      ]
     },
     "execution_count": 57,
     "metadata": {},
     "output_type": "execute_result"
    }
   ],
   "source": [
    "Mod_Compr=pd.DataFrame({\"Unsupervised_PCA_Unscaled\":Accuracy_Scores_2[\"Accuracy_Scores_Unscaled_USL\"].values,\n",
    "             \"Unsupervised_PCA_Scaled\":Accuracy_Scores_3[\"Accuracy_Scores_scaled_USL\"].values,\n",
    "             \"Supervised_Unscaled\":Accuracy_Scores_4[\"Accuracy_Scores_SL\"].values},\n",
    "            index=[\"Random_Model\",\"Log_Model\",\"Tree_Model\",\"KNN_Model\",\"Naive_Bayes_Model\",\n",
    "                  \"SVM_Model\"])\n",
    "\n",
    "Mod_Compr"
   ]
  },
  {
   "cell_type": "markdown",
   "metadata": {},
   "source": [
    "## As per the above results based on model accuracy, we can say the below things:\n",
    "\n",
    "### 1) Unsupervised_PCA_Unscaled data(Random Forest) is giving good accuracy..\n",
    "\n",
    "### 2) Scaled data is performing poor in Unsupervised Learning when compared to Unscaled data..\n",
    "\n",
    "### 3) Scaled PCA in Unsupervised model is giving poor predictions out of all..\n",
    "\n",
    "\n",
    "## So, For this dataset, Unsupervised Learning with the Agglomerative clustering predictor predicts better when it is trained with the unscaled data in Random Forest model."
   ]
  },
  {
   "cell_type": "code",
   "execution_count": null,
   "metadata": {},
   "outputs": [],
   "source": []
  },
  {
   "cell_type": "code",
   "execution_count": null,
   "metadata": {},
   "outputs": [],
   "source": []
  }
 ],
 "metadata": {
  "kernelspec": {
   "display_name": "Python 3",
   "language": "python",
   "name": "python3"
  },
  "language_info": {
   "codemirror_mode": {
    "name": "ipython",
    "version": 3
   },
   "file_extension": ".py",
   "mimetype": "text/x-python",
   "name": "python",
   "nbconvert_exporter": "python",
   "pygments_lexer": "ipython3",
   "version": "3.7.3"
  }
 },
 "nbformat": 4,
 "nbformat_minor": 2
}
